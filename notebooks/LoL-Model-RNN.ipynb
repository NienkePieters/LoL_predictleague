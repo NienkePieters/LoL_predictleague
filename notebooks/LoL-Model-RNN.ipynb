{
 "cells": [
  {
   "cell_type": "markdown",
   "id": "cca019b0-59bd-4ac0-b611-27e190e1c3fc",
   "metadata": {
    "tags": []
   },
   "source": [
    "# RNN model for LoL\n",
    "Goal: the model predicts if a player will play in the major leagues next year, based on their playing style in the not-major league this year."
   ]
  },
  {
   "cell_type": "markdown",
   "id": "51a4aa4e-8442-41fe-a939-e1275e28cfa3",
   "metadata": {
    "tags": []
   },
   "source": [
    "## Import packages"
   ]
  },
  {
   "cell_type": "code",
   "execution_count": 2,
   "id": "edc17171-ca08-4131-87f0-8937a66da217",
   "metadata": {},
   "outputs": [],
   "source": [
    "#import packages\n",
    "import pandas as pd\n",
    "import numpy as np\n",
    "from sklearn import set_config;\n",
    "set_config(display='diagram')\n",
    "from sklearn.model_selection import train_test_split\n",
    "from sklearn.pipeline import make_pipeline, make_union\n",
    "from sklearn.compose import make_column_transformer, make_column_selector\n",
    "from sklearn.impute import SimpleImputer\n",
    "from sklearn.preprocessing import OneHotEncoder, StandardScaler\n",
    "from tensorflow.keras.preprocessing.sequence import pad_sequences\n",
    "from collections import Counter\n",
    "from imblearn.over_sampling import RandomOverSampler\n",
    "import seaborn as sns\n",
    "import matplotlib.pyplot as plt "
   ]
  },
  {
   "cell_type": "markdown",
   "id": "dbedee79-abc4-415b-9f30-3f0bb7396c57",
   "metadata": {
    "tags": []
   },
   "source": [
    "## Import data"
   ]
  },
  {
   "cell_type": "code",
   "execution_count": 3,
   "id": "2c4140e0-f2d4-4f86-8ccd-d454828cc86c",
   "metadata": {},
   "outputs": [
    {
     "data": {
      "text/html": [
       "<div>\n",
       "<style scoped>\n",
       "    .dataframe tbody tr th:only-of-type {\n",
       "        vertical-align: middle;\n",
       "    }\n",
       "\n",
       "    .dataframe tbody tr th {\n",
       "        vertical-align: top;\n",
       "    }\n",
       "\n",
       "    .dataframe thead th {\n",
       "        text-align: right;\n",
       "    }\n",
       "</style>\n",
       "<table border=\"1\" class=\"dataframe\">\n",
       "  <thead>\n",
       "    <tr style=\"text-align: right;\">\n",
       "      <th></th>\n",
       "      <th>Unnamed: 0</th>\n",
       "      <th>Unnamed: 0.1</th>\n",
       "      <th>league</th>\n",
       "      <th>year</th>\n",
       "      <th>position</th>\n",
       "      <th>playername</th>\n",
       "      <th>teamname</th>\n",
       "      <th>gamelength</th>\n",
       "      <th>result</th>\n",
       "      <th>kills</th>\n",
       "      <th>...</th>\n",
       "      <th>goldat15</th>\n",
       "      <th>xpat15</th>\n",
       "      <th>csat15</th>\n",
       "      <th>golddiffat15</th>\n",
       "      <th>xpdiffat15</th>\n",
       "      <th>csdiffat15</th>\n",
       "      <th>killsat15</th>\n",
       "      <th>assistsat15</th>\n",
       "      <th>deathsat15</th>\n",
       "      <th>target</th>\n",
       "    </tr>\n",
       "  </thead>\n",
       "  <tbody>\n",
       "    <tr>\n",
       "      <th>0</th>\n",
       "      <td>506</td>\n",
       "      <td>506</td>\n",
       "      <td>NA CS</td>\n",
       "      <td>2014</td>\n",
       "      <td>top</td>\n",
       "      <td>Yazuki</td>\n",
       "      <td>Cloud9 Tempest</td>\n",
       "      <td>2513</td>\n",
       "      <td>0</td>\n",
       "      <td>2</td>\n",
       "      <td>...</td>\n",
       "      <td>4895.0</td>\n",
       "      <td>7512.0</td>\n",
       "      <td>128.0</td>\n",
       "      <td>860.0</td>\n",
       "      <td>1043.0</td>\n",
       "      <td>29.0</td>\n",
       "      <td>0.0</td>\n",
       "      <td>1.0</td>\n",
       "      <td>0.0</td>\n",
       "      <td>1</td>\n",
       "    </tr>\n",
       "    <tr>\n",
       "      <th>1</th>\n",
       "      <td>507</td>\n",
       "      <td>507</td>\n",
       "      <td>NA CS</td>\n",
       "      <td>2014</td>\n",
       "      <td>jng</td>\n",
       "      <td>Kez</td>\n",
       "      <td>Cloud9 Tempest</td>\n",
       "      <td>2513</td>\n",
       "      <td>0</td>\n",
       "      <td>5</td>\n",
       "      <td>...</td>\n",
       "      <td>3680.0</td>\n",
       "      <td>5423.0</td>\n",
       "      <td>65.0</td>\n",
       "      <td>-243.0</td>\n",
       "      <td>-610.0</td>\n",
       "      <td>-8.0</td>\n",
       "      <td>0.0</td>\n",
       "      <td>1.0</td>\n",
       "      <td>0.0</td>\n",
       "      <td>1</td>\n",
       "    </tr>\n",
       "    <tr>\n",
       "      <th>2</th>\n",
       "      <td>508</td>\n",
       "      <td>508</td>\n",
       "      <td>NA CS</td>\n",
       "      <td>2014</td>\n",
       "      <td>mid</td>\n",
       "      <td>Bischu</td>\n",
       "      <td>Cloud9 Tempest</td>\n",
       "      <td>2513</td>\n",
       "      <td>0</td>\n",
       "      <td>1</td>\n",
       "      <td>...</td>\n",
       "      <td>4411.0</td>\n",
       "      <td>6694.0</td>\n",
       "      <td>102.0</td>\n",
       "      <td>124.0</td>\n",
       "      <td>79.0</td>\n",
       "      <td>-14.0</td>\n",
       "      <td>1.0</td>\n",
       "      <td>0.0</td>\n",
       "      <td>0.0</td>\n",
       "      <td>1</td>\n",
       "    </tr>\n",
       "    <tr>\n",
       "      <th>3</th>\n",
       "      <td>509</td>\n",
       "      <td>509</td>\n",
       "      <td>NA CS</td>\n",
       "      <td>2014</td>\n",
       "      <td>bot</td>\n",
       "      <td>Altec</td>\n",
       "      <td>Cloud9 Tempest</td>\n",
       "      <td>2513</td>\n",
       "      <td>0</td>\n",
       "      <td>1</td>\n",
       "      <td>...</td>\n",
       "      <td>4743.0</td>\n",
       "      <td>4312.0</td>\n",
       "      <td>125.0</td>\n",
       "      <td>880.0</td>\n",
       "      <td>131.0</td>\n",
       "      <td>34.0</td>\n",
       "      <td>0.0</td>\n",
       "      <td>1.0</td>\n",
       "      <td>0.0</td>\n",
       "      <td>1</td>\n",
       "    </tr>\n",
       "    <tr>\n",
       "      <th>4</th>\n",
       "      <td>510</td>\n",
       "      <td>510</td>\n",
       "      <td>NA CS</td>\n",
       "      <td>2014</td>\n",
       "      <td>sup</td>\n",
       "      <td>Gleeb</td>\n",
       "      <td>Cloud9 Tempest</td>\n",
       "      <td>2513</td>\n",
       "      <td>0</td>\n",
       "      <td>1</td>\n",
       "      <td>...</td>\n",
       "      <td>3013.0</td>\n",
       "      <td>4106.0</td>\n",
       "      <td>1.0</td>\n",
       "      <td>370.0</td>\n",
       "      <td>638.0</td>\n",
       "      <td>0.0</td>\n",
       "      <td>1.0</td>\n",
       "      <td>0.0</td>\n",
       "      <td>0.0</td>\n",
       "      <td>1</td>\n",
       "    </tr>\n",
       "  </tbody>\n",
       "</table>\n",
       "<p>5 rows × 52 columns</p>\n",
       "</div>"
      ],
      "text/plain": [
       "   Unnamed: 0  Unnamed: 0.1 league  year position playername        teamname  \\\n",
       "0         506           506  NA CS  2014      top     Yazuki  Cloud9 Tempest   \n",
       "1         507           507  NA CS  2014      jng        Kez  Cloud9 Tempest   \n",
       "2         508           508  NA CS  2014      mid     Bischu  Cloud9 Tempest   \n",
       "3         509           509  NA CS  2014      bot      Altec  Cloud9 Tempest   \n",
       "4         510           510  NA CS  2014      sup      Gleeb  Cloud9 Tempest   \n",
       "\n",
       "   gamelength  result  kills  ...  goldat15  xpat15  csat15  golddiffat15  \\\n",
       "0        2513       0      2  ...    4895.0  7512.0   128.0         860.0   \n",
       "1        2513       0      5  ...    3680.0  5423.0    65.0        -243.0   \n",
       "2        2513       0      1  ...    4411.0  6694.0   102.0         124.0   \n",
       "3        2513       0      1  ...    4743.0  4312.0   125.0         880.0   \n",
       "4        2513       0      1  ...    3013.0  4106.0     1.0         370.0   \n",
       "\n",
       "   xpdiffat15  csdiffat15  killsat15  assistsat15  deathsat15  target  \n",
       "0      1043.0        29.0        0.0          1.0         0.0       1  \n",
       "1      -610.0        -8.0        0.0          1.0         0.0       1  \n",
       "2        79.0       -14.0        1.0          0.0         0.0       1  \n",
       "3       131.0        34.0        0.0          1.0         0.0       1  \n",
       "4       638.0         0.0        1.0          0.0         0.0       1  \n",
       "\n",
       "[5 rows x 52 columns]"
      ]
     },
     "execution_count": 3,
     "metadata": {},
     "output_type": "execute_result"
    }
   ],
   "source": [
    "df = pd.read_csv(\"~/code/akahrs/LoL-Final-Project/predictleague/predictleague/data/df_cleaned_final3.csv\")\n",
    "df.head()"
   ]
  },
  {
   "cell_type": "markdown",
   "id": "40e5e11b-8b77-4337-bc8f-75214f045a3b",
   "metadata": {
    "tags": []
   },
   "source": [
    "### Preprocessing duplicates, columns, nan target"
   ]
  },
  {
   "cell_type": "code",
   "execution_count": 4,
   "id": "849dfa0b-4a2e-426f-b317-6a8359645abc",
   "metadata": {},
   "outputs": [],
   "source": [
    "# drop rows with X as target\n",
    "df = df.loc[df['target'] != 'x', :]\n",
    "\n",
    "# drop duplicates\n",
    "df = df.drop_duplicates()\n",
    "\n",
    "# drop not needed columns\n",
    "df = df.drop(columns=['goldat10','xpat10', 'csat10', 'golddiffat10', 'xpdiffat10','csdiffat10','killsat10','assistsat10','deathsat10','goldat15','xpat15','csat15','golddiffat15','xpdiffat15','csdiffat15','killsat15','assistsat15','deathsat15','doublekills', 'triplekills', 'quadrakills', 'pentakills', 'firstbloodkill', 'firstbloodassist', 'firstbloodvictim', 'controlwardsbought', 'earnedgoldshare'])\n",
    "\n",
    "# divide gold, kills, death by play time\n",
    "#df['kills_per_min']= (df['kills']/df['gamelength'])*60\n",
    "#df['deaths_per_min']= (df['deaths']/df['gamelength'])*60\n",
    "#df['assists_per_min']= (df['assists']/df['gamelength'])*60\n",
    "\n",
    "#create kills_assists_deaths metric\n",
    "df['deaths2'] = df['deaths'].map(lambda x: 1 if x == 0 else x)\n",
    "df['kills_assists_deaths_metric']=(df['kills']+df['assists'])/df['deaths2']\n",
    "\n",
    "df = df.drop(columns=['kills','deaths','assists','Unnamed: 0'])\n",
    "\n",
    "# drop rows where target is nan\n",
    "df = df.dropna(subset=[\"target\"])\n",
    "\n",
    "#drop rows with negative values for earned gpm\n",
    "df = df.drop(df.index[df['earned gpm'] < 0])\n",
    "\n",
    "#drop rows with dpm values above 3000\n",
    "df = df.drop(df.index[df['dpm'] > 3000])\n",
    "\n",
    "# drop people from the random leagues \n",
    "#df = df[df.league.isin(bestleagues) == True]\n"
   ]
  },
  {
   "cell_type": "code",
   "execution_count": 5,
   "id": "e76a19bd-73bf-45ae-9fd4-a50a25f7b4cc",
   "metadata": {},
   "outputs": [
    {
     "data": {
      "text/plain": [
       "3093"
      ]
     },
     "execution_count": 5,
     "metadata": {},
     "output_type": "execute_result"
    }
   ],
   "source": [
    "len(df['playername'].unique())"
   ]
  },
  {
   "cell_type": "code",
   "execution_count": 6,
   "id": "106caf0d-f327-46f9-a431-3791087345f7",
   "metadata": {},
   "outputs": [],
   "source": [
    "bestleagues = [\"EU LCS\", \"NA LCS\", \"LMS\", \"LEC\", \"LCS\", \"LCK\", \"LPL\", \"PCS\", \"NA CS\", \"EU CS\", \"KeSPA\", \"LSPL\", \"LCK CL\", \"DC\", \"NASG\", \"Proving Grounds Circuit\", \"LVP DDH\", \"LFL\", \"LDL\", \"GPL\", \"EM\", \"LCSA\"]\n",
    "#drop all games of people that did not play at least 1 game in these leagues"
   ]
  },
  {
   "cell_type": "code",
   "execution_count": 7,
   "id": "72089118-cb1b-46c6-a23e-d8dfa94a9533",
   "metadata": {
    "tags": []
   },
   "outputs": [
    {
     "name": "stderr",
     "output_type": "stream",
     "text": [
      "/var/folders/d9/88yhzft11312hl2s94b0tlgr0000gn/T/ipykernel_43743/530196418.py:4: UserWarning: Boolean Series key will be reindexed to match DataFrame index.\n",
      "  if len(df.loc[df['playername']==person,['league']][df['league'].isin(bestleagues)]) > 0:\n"
     ]
    }
   ],
   "source": [
    "keep_list = []\n",
    "for person in df['playername'].unique():\n",
    "    #put person on keep_list if at least one of his matches was in the bestleagues \n",
    "    if len(df.loc[df['playername']==person,['league']][df['league'].isin(bestleagues)]) > 0:\n",
    "        keep_list.append(person)"
   ]
  },
  {
   "cell_type": "code",
   "execution_count": 8,
   "id": "49a19c07-003b-4291-a8f0-dda47d109146",
   "metadata": {},
   "outputs": [
    {
     "data": {
      "text/plain": [
       "3093"
      ]
     },
     "execution_count": 8,
     "metadata": {},
     "output_type": "execute_result"
    }
   ],
   "source": [
    "# drop people that did not play in the bestleagues\n",
    "df = df[df.playername.isin(keep_list) == True]\n",
    "len(df['playername'].unique())"
   ]
  },
  {
   "cell_type": "code",
   "execution_count": 9,
   "id": "e0fd3b8a-f615-40d6-80c5-041ffb03ff42",
   "metadata": {},
   "outputs": [],
   "source": [
    "df.to_csv(\"~/code/akahrs/LoL-Final-Project/predict_league/df_onlybestleagues2.csv\")"
   ]
  },
  {
   "cell_type": "markdown",
   "id": "c25d0537-4248-491f-b7cd-6bb1afc2423d",
   "metadata": {
    "tags": []
   },
   "source": [
    "### Explore the data"
   ]
  },
  {
   "cell_type": "code",
   "execution_count": 10,
   "id": "62229e43-b9a9-4b87-9a54-f7c1dda492ff",
   "metadata": {},
   "outputs": [
    {
     "data": {
      "text/plain": [
       "Index(['Unnamed: 0.1', 'league', 'year', 'position', 'playername', 'teamname',\n",
       "       'gamelength', 'result', 'damagetochampions', 'dpm', 'damageshare',\n",
       "       'damagetakenperminute', 'damagemitigatedperminute', 'wpm', 'wcpm',\n",
       "       'vspm', 'earned gpm', 'cspm', 'monsterkillsownjungle',\n",
       "       'monsterkillsenemyjungle', 'target', 'deaths2',\n",
       "       'kills_assists_deaths_metric'],\n",
       "      dtype='object')"
      ]
     },
     "execution_count": 10,
     "metadata": {},
     "output_type": "execute_result"
    }
   ],
   "source": [
    "df.keys()"
   ]
  },
  {
   "cell_type": "code",
   "execution_count": 11,
   "id": "09ddeefd-cdef-4508-b7ce-dc135f594b11",
   "metadata": {},
   "outputs": [
    {
     "data": {
      "text/html": [
       "<div>\n",
       "<style scoped>\n",
       "    .dataframe tbody tr th:only-of-type {\n",
       "        vertical-align: middle;\n",
       "    }\n",
       "\n",
       "    .dataframe tbody tr th {\n",
       "        vertical-align: top;\n",
       "    }\n",
       "\n",
       "    .dataframe thead th {\n",
       "        text-align: right;\n",
       "    }\n",
       "</style>\n",
       "<table border=\"1\" class=\"dataframe\">\n",
       "  <thead>\n",
       "    <tr style=\"text-align: right;\">\n",
       "      <th></th>\n",
       "      <th>Unnamed: 0.1</th>\n",
       "      <th>league</th>\n",
       "      <th>year</th>\n",
       "      <th>position</th>\n",
       "      <th>playername</th>\n",
       "      <th>teamname</th>\n",
       "      <th>gamelength</th>\n",
       "      <th>result</th>\n",
       "      <th>damagetochampions</th>\n",
       "      <th>dpm</th>\n",
       "      <th>...</th>\n",
       "      <th>wpm</th>\n",
       "      <th>wcpm</th>\n",
       "      <th>vspm</th>\n",
       "      <th>earned gpm</th>\n",
       "      <th>cspm</th>\n",
       "      <th>monsterkillsownjungle</th>\n",
       "      <th>monsterkillsenemyjungle</th>\n",
       "      <th>target</th>\n",
       "      <th>deaths2</th>\n",
       "      <th>kills_assists_deaths_metric</th>\n",
       "    </tr>\n",
       "  </thead>\n",
       "  <tbody>\n",
       "    <tr>\n",
       "      <th>0</th>\n",
       "      <td>506</td>\n",
       "      <td>NA CS</td>\n",
       "      <td>2014</td>\n",
       "      <td>top</td>\n",
       "      <td>Yazuki</td>\n",
       "      <td>Cloud9 Tempest</td>\n",
       "      <td>2513</td>\n",
       "      <td>0</td>\n",
       "      <td>17745.0</td>\n",
       "      <td>423.6769</td>\n",
       "      <td>...</td>\n",
       "      <td>0.3581</td>\n",
       "      <td>0.0000</td>\n",
       "      <td>0.0</td>\n",
       "      <td>194.9940</td>\n",
       "      <td>7.5686</td>\n",
       "      <td>21.0</td>\n",
       "      <td>9.0</td>\n",
       "      <td>1</td>\n",
       "      <td>2</td>\n",
       "      <td>3.50</td>\n",
       "    </tr>\n",
       "    <tr>\n",
       "      <th>1</th>\n",
       "      <td>507</td>\n",
       "      <td>NA CS</td>\n",
       "      <td>2014</td>\n",
       "      <td>jng</td>\n",
       "      <td>Kez</td>\n",
       "      <td>Cloud9 Tempest</td>\n",
       "      <td>2513</td>\n",
       "      <td>0</td>\n",
       "      <td>9238.0</td>\n",
       "      <td>220.5651</td>\n",
       "      <td>...</td>\n",
       "      <td>0.5014</td>\n",
       "      <td>0.1910</td>\n",
       "      <td>0.0</td>\n",
       "      <td>148.0780</td>\n",
       "      <td>3.3187</td>\n",
       "      <td>93.0</td>\n",
       "      <td>7.0</td>\n",
       "      <td>1</td>\n",
       "      <td>3</td>\n",
       "      <td>2.00</td>\n",
       "    </tr>\n",
       "    <tr>\n",
       "      <th>2</th>\n",
       "      <td>508</td>\n",
       "      <td>NA CS</td>\n",
       "      <td>2014</td>\n",
       "      <td>mid</td>\n",
       "      <td>Bischu</td>\n",
       "      <td>Cloud9 Tempest</td>\n",
       "      <td>2513</td>\n",
       "      <td>0</td>\n",
       "      <td>17560.0</td>\n",
       "      <td>419.2598</td>\n",
       "      <td>...</td>\n",
       "      <td>0.4298</td>\n",
       "      <td>0.0716</td>\n",
       "      <td>0.0</td>\n",
       "      <td>162.0454</td>\n",
       "      <td>6.2555</td>\n",
       "      <td>34.0</td>\n",
       "      <td>5.0</td>\n",
       "      <td>1</td>\n",
       "      <td>5</td>\n",
       "      <td>1.40</td>\n",
       "    </tr>\n",
       "    <tr>\n",
       "      <th>3</th>\n",
       "      <td>509</td>\n",
       "      <td>NA CS</td>\n",
       "      <td>2014</td>\n",
       "      <td>bot</td>\n",
       "      <td>Altec</td>\n",
       "      <td>Cloud9 Tempest</td>\n",
       "      <td>2513</td>\n",
       "      <td>0</td>\n",
       "      <td>12578.0</td>\n",
       "      <td>300.3104</td>\n",
       "      <td>...</td>\n",
       "      <td>0.1910</td>\n",
       "      <td>0.1910</td>\n",
       "      <td>0.0</td>\n",
       "      <td>187.3776</td>\n",
       "      <td>6.9240</td>\n",
       "      <td>17.0</td>\n",
       "      <td>1.0</td>\n",
       "      <td>1</td>\n",
       "      <td>4</td>\n",
       "      <td>1.75</td>\n",
       "    </tr>\n",
       "    <tr>\n",
       "      <th>4</th>\n",
       "      <td>510</td>\n",
       "      <td>NA CS</td>\n",
       "      <td>2014</td>\n",
       "      <td>sup</td>\n",
       "      <td>Gleeb</td>\n",
       "      <td>Cloud9 Tempest</td>\n",
       "      <td>2513</td>\n",
       "      <td>0</td>\n",
       "      <td>7737.0</td>\n",
       "      <td>184.7274</td>\n",
       "      <td>...</td>\n",
       "      <td>1.2654</td>\n",
       "      <td>0.1671</td>\n",
       "      <td>0.0</td>\n",
       "      <td>89.7493</td>\n",
       "      <td>0.2149</td>\n",
       "      <td>0.0</td>\n",
       "      <td>0.0</td>\n",
       "      <td>1</td>\n",
       "      <td>2</td>\n",
       "      <td>4.00</td>\n",
       "    </tr>\n",
       "  </tbody>\n",
       "</table>\n",
       "<p>5 rows × 23 columns</p>\n",
       "</div>"
      ],
      "text/plain": [
       "   Unnamed: 0.1 league  year position playername        teamname  gamelength  \\\n",
       "0           506  NA CS  2014      top     Yazuki  Cloud9 Tempest        2513   \n",
       "1           507  NA CS  2014      jng        Kez  Cloud9 Tempest        2513   \n",
       "2           508  NA CS  2014      mid     Bischu  Cloud9 Tempest        2513   \n",
       "3           509  NA CS  2014      bot      Altec  Cloud9 Tempest        2513   \n",
       "4           510  NA CS  2014      sup      Gleeb  Cloud9 Tempest        2513   \n",
       "\n",
       "   result  damagetochampions       dpm  ...     wpm    wcpm  vspm  earned gpm  \\\n",
       "0       0            17745.0  423.6769  ...  0.3581  0.0000   0.0    194.9940   \n",
       "1       0             9238.0  220.5651  ...  0.5014  0.1910   0.0    148.0780   \n",
       "2       0            17560.0  419.2598  ...  0.4298  0.0716   0.0    162.0454   \n",
       "3       0            12578.0  300.3104  ...  0.1910  0.1910   0.0    187.3776   \n",
       "4       0             7737.0  184.7274  ...  1.2654  0.1671   0.0     89.7493   \n",
       "\n",
       "     cspm  monsterkillsownjungle  monsterkillsenemyjungle  target  deaths2  \\\n",
       "0  7.5686                   21.0                      9.0       1        2   \n",
       "1  3.3187                   93.0                      7.0       1        3   \n",
       "2  6.2555                   34.0                      5.0       1        5   \n",
       "3  6.9240                   17.0                      1.0       1        4   \n",
       "4  0.2149                    0.0                      0.0       1        2   \n",
       "\n",
       "   kills_assists_deaths_metric  \n",
       "0                         3.50  \n",
       "1                         2.00  \n",
       "2                         1.40  \n",
       "3                         1.75  \n",
       "4                         4.00  \n",
       "\n",
       "[5 rows x 23 columns]"
      ]
     },
     "execution_count": 11,
     "metadata": {},
     "output_type": "execute_result"
    }
   ],
   "source": [
    "df.head(5)"
   ]
  },
  {
   "cell_type": "code",
   "execution_count": 12,
   "id": "03af2b93-16c4-4a61-8bff-22a926b0934c",
   "metadata": {},
   "outputs": [
    {
     "data": {
      "text/html": [
       "<div>\n",
       "<style scoped>\n",
       "    .dataframe tbody tr th:only-of-type {\n",
       "        vertical-align: middle;\n",
       "    }\n",
       "\n",
       "    .dataframe tbody tr th {\n",
       "        vertical-align: top;\n",
       "    }\n",
       "\n",
       "    .dataframe thead th {\n",
       "        text-align: right;\n",
       "    }\n",
       "</style>\n",
       "<table border=\"1\" class=\"dataframe\">\n",
       "  <thead>\n",
       "    <tr style=\"text-align: right;\">\n",
       "      <th></th>\n",
       "      <th>Unnamed: 0.1</th>\n",
       "      <th>year</th>\n",
       "      <th>gamelength</th>\n",
       "      <th>result</th>\n",
       "      <th>damagetochampions</th>\n",
       "      <th>dpm</th>\n",
       "      <th>damageshare</th>\n",
       "      <th>damagetakenperminute</th>\n",
       "      <th>damagemitigatedperminute</th>\n",
       "      <th>wpm</th>\n",
       "      <th>wcpm</th>\n",
       "      <th>vspm</th>\n",
       "      <th>earned gpm</th>\n",
       "      <th>cspm</th>\n",
       "      <th>monsterkillsownjungle</th>\n",
       "      <th>monsterkillsenemyjungle</th>\n",
       "      <th>target</th>\n",
       "      <th>deaths2</th>\n",
       "      <th>kills_assists_deaths_metric</th>\n",
       "    </tr>\n",
       "  </thead>\n",
       "  <tbody>\n",
       "    <tr>\n",
       "      <th>count</th>\n",
       "      <td>189399.000000</td>\n",
       "      <td>189399.000000</td>\n",
       "      <td>189399.000000</td>\n",
       "      <td>189399.000000</td>\n",
       "      <td>189399.000000</td>\n",
       "      <td>189399.000000</td>\n",
       "      <td>189399.000000</td>\n",
       "      <td>189399.000000</td>\n",
       "      <td>137948.000000</td>\n",
       "      <td>189399.000000</td>\n",
       "      <td>189399.000000</td>\n",
       "      <td>131223.000000</td>\n",
       "      <td>189399.000000</td>\n",
       "      <td>189399.000000</td>\n",
       "      <td>152670.000000</td>\n",
       "      <td>152670.000000</td>\n",
       "      <td>189399.000000</td>\n",
       "      <td>189399.000000</td>\n",
       "      <td>189399.000000</td>\n",
       "    </tr>\n",
       "    <tr>\n",
       "      <th>mean</th>\n",
       "      <td>469460.084245</td>\n",
       "      <td>2019.812496</td>\n",
       "      <td>1925.348386</td>\n",
       "      <td>0.494649</td>\n",
       "      <td>12871.684059</td>\n",
       "      <td>396.095458</td>\n",
       "      <td>0.199618</td>\n",
       "      <td>572.105422</td>\n",
       "      <td>462.783354</td>\n",
       "      <td>0.627528</td>\n",
       "      <td>0.264033</td>\n",
       "      <td>1.276752</td>\n",
       "      <td>227.196131</td>\n",
       "      <td>6.334235</td>\n",
       "      <td>25.272293</td>\n",
       "      <td>4.502044</td>\n",
       "      <td>0.393635</td>\n",
       "      <td>2.944060</td>\n",
       "      <td>5.014403</td>\n",
       "    </tr>\n",
       "    <tr>\n",
       "      <th>std</th>\n",
       "      <td>249952.978474</td>\n",
       "      <td>1.953104</td>\n",
       "      <td>368.985070</td>\n",
       "      <td>0.499973</td>\n",
       "      <td>8162.294160</td>\n",
       "      <td>219.225021</td>\n",
       "      <td>0.094731</td>\n",
       "      <td>232.524675</td>\n",
       "      <td>322.826286</td>\n",
       "      <td>0.448604</td>\n",
       "      <td>0.160892</td>\n",
       "      <td>0.756946</td>\n",
       "      <td>82.795739</td>\n",
       "      <td>3.056164</td>\n",
       "      <td>35.254750</td>\n",
       "      <td>8.510938</td>\n",
       "      <td>0.488557</td>\n",
       "      <td>1.811332</td>\n",
       "      <td>4.814872</td>\n",
       "    </tr>\n",
       "    <tr>\n",
       "      <th>min</th>\n",
       "      <td>506.000000</td>\n",
       "      <td>2014.000000</td>\n",
       "      <td>938.000000</td>\n",
       "      <td>0.000000</td>\n",
       "      <td>0.000000</td>\n",
       "      <td>0.000000</td>\n",
       "      <td>0.000000</td>\n",
       "      <td>0.000000</td>\n",
       "      <td>0.000000</td>\n",
       "      <td>0.000000</td>\n",
       "      <td>0.000000</td>\n",
       "      <td>0.000000</td>\n",
       "      <td>0.051500</td>\n",
       "      <td>0.000000</td>\n",
       "      <td>0.000000</td>\n",
       "      <td>0.000000</td>\n",
       "      <td>0.000000</td>\n",
       "      <td>1.000000</td>\n",
       "      <td>0.000000</td>\n",
       "    </tr>\n",
       "    <tr>\n",
       "      <th>25%</th>\n",
       "      <td>252770.500000</td>\n",
       "      <td>2019.000000</td>\n",
       "      <td>1663.000000</td>\n",
       "      <td>0.000000</td>\n",
       "      <td>6761.000000</td>\n",
       "      <td>221.235350</td>\n",
       "      <td>0.121579</td>\n",
       "      <td>393.088750</td>\n",
       "      <td>236.925100</td>\n",
       "      <td>0.342300</td>\n",
       "      <td>0.144700</td>\n",
       "      <td>0.835800</td>\n",
       "      <td>167.864800</td>\n",
       "      <td>4.559200</td>\n",
       "      <td>0.000000</td>\n",
       "      <td>0.000000</td>\n",
       "      <td>0.000000</td>\n",
       "      <td>1.000000</td>\n",
       "      <td>1.333333</td>\n",
       "    </tr>\n",
       "    <tr>\n",
       "      <th>50%</th>\n",
       "      <td>484616.000000</td>\n",
       "      <td>2020.000000</td>\n",
       "      <td>1880.000000</td>\n",
       "      <td>0.000000</td>\n",
       "      <td>11295.000000</td>\n",
       "      <td>367.274100</td>\n",
       "      <td>0.197446</td>\n",
       "      <td>530.907600</td>\n",
       "      <td>401.689400</td>\n",
       "      <td>0.449000</td>\n",
       "      <td>0.238000</td>\n",
       "      <td>1.137100</td>\n",
       "      <td>228.374600</td>\n",
       "      <td>7.205200</td>\n",
       "      <td>9.000000</td>\n",
       "      <td>0.000000</td>\n",
       "      <td>0.000000</td>\n",
       "      <td>3.000000</td>\n",
       "      <td>3.000000</td>\n",
       "    </tr>\n",
       "    <tr>\n",
       "      <th>75%</th>\n",
       "      <td>691399.500000</td>\n",
       "      <td>2021.000000</td>\n",
       "      <td>2131.000000</td>\n",
       "      <td>1.000000</td>\n",
       "      <td>17040.000000</td>\n",
       "      <td>529.834600</td>\n",
       "      <td>0.266259</td>\n",
       "      <td>732.060350</td>\n",
       "      <td>636.134500</td>\n",
       "      <td>0.740200</td>\n",
       "      <td>0.356600</td>\n",
       "      <td>1.614500</td>\n",
       "      <td>285.929250</td>\n",
       "      <td>8.662000</td>\n",
       "      <td>28.000000</td>\n",
       "      <td>5.000000</td>\n",
       "      <td>1.000000</td>\n",
       "      <td>4.000000</td>\n",
       "      <td>7.500000</td>\n",
       "    </tr>\n",
       "    <tr>\n",
       "      <th>max</th>\n",
       "      <td>864491.000000</td>\n",
       "      <td>2023.000000</td>\n",
       "      <td>5341.000000</td>\n",
       "      <td>1.000000</td>\n",
       "      <td>150341.000000</td>\n",
       "      <td>2293.531700</td>\n",
       "      <td>0.641525</td>\n",
       "      <td>2026.819200</td>\n",
       "      <td>3442.544700</td>\n",
       "      <td>3.561600</td>\n",
       "      <td>1.601800</td>\n",
       "      <td>6.244800</td>\n",
       "      <td>612.331000</td>\n",
       "      <td>14.760000</td>\n",
       "      <td>210.000000</td>\n",
       "      <td>130.000000</td>\n",
       "      <td>1.000000</td>\n",
       "      <td>15.000000</td>\n",
       "      <td>33.000000</td>\n",
       "    </tr>\n",
       "  </tbody>\n",
       "</table>\n",
       "</div>"
      ],
      "text/plain": [
       "        Unnamed: 0.1           year     gamelength         result  \\\n",
       "count  189399.000000  189399.000000  189399.000000  189399.000000   \n",
       "mean   469460.084245    2019.812496    1925.348386       0.494649   \n",
       "std    249952.978474       1.953104     368.985070       0.499973   \n",
       "min       506.000000    2014.000000     938.000000       0.000000   \n",
       "25%    252770.500000    2019.000000    1663.000000       0.000000   \n",
       "50%    484616.000000    2020.000000    1880.000000       0.000000   \n",
       "75%    691399.500000    2021.000000    2131.000000       1.000000   \n",
       "max    864491.000000    2023.000000    5341.000000       1.000000   \n",
       "\n",
       "       damagetochampions            dpm    damageshare  damagetakenperminute  \\\n",
       "count      189399.000000  189399.000000  189399.000000         189399.000000   \n",
       "mean        12871.684059     396.095458       0.199618            572.105422   \n",
       "std          8162.294160     219.225021       0.094731            232.524675   \n",
       "min             0.000000       0.000000       0.000000              0.000000   \n",
       "25%          6761.000000     221.235350       0.121579            393.088750   \n",
       "50%         11295.000000     367.274100       0.197446            530.907600   \n",
       "75%         17040.000000     529.834600       0.266259            732.060350   \n",
       "max        150341.000000    2293.531700       0.641525           2026.819200   \n",
       "\n",
       "       damagemitigatedperminute            wpm           wcpm           vspm  \\\n",
       "count             137948.000000  189399.000000  189399.000000  131223.000000   \n",
       "mean                 462.783354       0.627528       0.264033       1.276752   \n",
       "std                  322.826286       0.448604       0.160892       0.756946   \n",
       "min                    0.000000       0.000000       0.000000       0.000000   \n",
       "25%                  236.925100       0.342300       0.144700       0.835800   \n",
       "50%                  401.689400       0.449000       0.238000       1.137100   \n",
       "75%                  636.134500       0.740200       0.356600       1.614500   \n",
       "max                 3442.544700       3.561600       1.601800       6.244800   \n",
       "\n",
       "          earned gpm           cspm  monsterkillsownjungle  \\\n",
       "count  189399.000000  189399.000000          152670.000000   \n",
       "mean      227.196131       6.334235              25.272293   \n",
       "std        82.795739       3.056164              35.254750   \n",
       "min         0.051500       0.000000               0.000000   \n",
       "25%       167.864800       4.559200               0.000000   \n",
       "50%       228.374600       7.205200               9.000000   \n",
       "75%       285.929250       8.662000              28.000000   \n",
       "max       612.331000      14.760000             210.000000   \n",
       "\n",
       "       monsterkillsenemyjungle         target        deaths2  \\\n",
       "count            152670.000000  189399.000000  189399.000000   \n",
       "mean                  4.502044       0.393635       2.944060   \n",
       "std                   8.510938       0.488557       1.811332   \n",
       "min                   0.000000       0.000000       1.000000   \n",
       "25%                   0.000000       0.000000       1.000000   \n",
       "50%                   0.000000       0.000000       3.000000   \n",
       "75%                   5.000000       1.000000       4.000000   \n",
       "max                 130.000000       1.000000      15.000000   \n",
       "\n",
       "       kills_assists_deaths_metric  \n",
       "count                189399.000000  \n",
       "mean                      5.014403  \n",
       "std                       4.814872  \n",
       "min                       0.000000  \n",
       "25%                       1.333333  \n",
       "50%                       3.000000  \n",
       "75%                       7.500000  \n",
       "max                      33.000000  "
      ]
     },
     "execution_count": 12,
     "metadata": {},
     "output_type": "execute_result"
    }
   ],
   "source": [
    "df.describe()"
   ]
  },
  {
   "cell_type": "code",
   "execution_count": 13,
   "id": "3c6b7930-2324-4d45-8c15-dd2eb319bbc0",
   "metadata": {},
   "outputs": [
    {
     "name": "stderr",
     "output_type": "stream",
     "text": [
      "/Users/nienkepieters/.pyenv/versions/3.8.12/envs/lewagon/lib/python3.8/site-packages/seaborn/_decorators.py:36: FutureWarning: Pass the following variable as a keyword arg: x. From version 0.12, the only valid positional argument will be `data`, and passing other arguments without an explicit keyword will result in an error or misinterpretation.\n",
      "  warnings.warn(\n",
      "/Users/nienkepieters/.pyenv/versions/3.8.12/envs/lewagon/lib/python3.8/site-packages/seaborn/_decorators.py:36: FutureWarning: Pass the following variable as a keyword arg: x. From version 0.12, the only valid positional argument will be `data`, and passing other arguments without an explicit keyword will result in an error or misinterpretation.\n",
      "  warnings.warn(\n",
      "/Users/nienkepieters/.pyenv/versions/3.8.12/envs/lewagon/lib/python3.8/site-packages/seaborn/_decorators.py:36: FutureWarning: Pass the following variable as a keyword arg: x. From version 0.12, the only valid positional argument will be `data`, and passing other arguments without an explicit keyword will result in an error or misinterpretation.\n",
      "  warnings.warn(\n",
      "/Users/nienkepieters/.pyenv/versions/3.8.12/envs/lewagon/lib/python3.8/site-packages/seaborn/_decorators.py:36: FutureWarning: Pass the following variable as a keyword arg: x. From version 0.12, the only valid positional argument will be `data`, and passing other arguments without an explicit keyword will result in an error or misinterpretation.\n",
      "  warnings.warn(\n"
     ]
    },
    {
     "data": {
      "image/png": "[encoded data removed]",
      "text/plain": [
       "<Figure size 1440x360 with 4 Axes>"
      ]
     },
     "metadata": {
      "needs_background": "light"
     },
     "output_type": "display_data"
    }
   ],
   "source": [
    "fig = plt.figure(figsize = (20,5))\n",
    "fig.subplots_adjust(hspace=0.5, wspace=0.2)\n",
    "ax = fig.add_subplot(2, 2, 1)\n",
    "sns.boxplot(df['earned gpm'], ax=ax)\n",
    "ax = fig.add_subplot(2, 2, 2)\n",
    "sns.boxplot(df['dpm'], ax=ax)\n",
    "ax = fig.add_subplot(2, 2, 3)\n",
    "sns.boxplot(df['cspm'], ax=ax)\n",
    "ax = fig.add_subplot(2, 2, 4)\n",
    "sns.boxplot(df['kills_assists_deaths_metric'], ax=ax)\n",
    "\n",
    "plt.show()"
   ]
  },
  {
   "cell_type": "markdown",
   "id": "2775250e-62b2-4c05-a83d-ce1df81c3f6c",
   "metadata": {
    "tags": []
   },
   "source": [
    "### Split df per position (top, jng, mid, bot, sup) and keep only relevant features"
   ]
  },
  {
   "cell_type": "code",
   "execution_count": 14,
   "id": "bf39c6b8-780d-4e78-b2cc-01601a856bd5",
   "metadata": {},
   "outputs": [],
   "source": [
    "columns = ['year','playername','position','earned gpm', 'dpm', 'cspm', 'kills_assists_deaths_metric', 'result','target']\n",
    "\n",
    "#create df per position\n",
    "df_top = df.loc[df['position']=='top',columns]\n",
    "df_jng = df.loc[df['position']=='jng',columns]\n",
    "df_mid = df.loc[df['position']=='mid',columns]\n",
    "df_bot = df.loc[df['position']=='bot',columns]\n",
    "df_sup = df.loc[df['position']=='sup',columns]"
   ]
  },
  {
   "cell_type": "code",
   "execution_count": 15,
   "id": "ce84e9c0-1560-42ef-843c-a845a28f0ed3",
   "metadata": {},
   "outputs": [
    {
     "data": {
      "text/html": [
       "<div>\n",
       "<style scoped>\n",
       "    .dataframe tbody tr th:only-of-type {\n",
       "        vertical-align: middle;\n",
       "    }\n",
       "\n",
       "    .dataframe tbody tr th {\n",
       "        vertical-align: top;\n",
       "    }\n",
       "\n",
       "    .dataframe thead th {\n",
       "        text-align: right;\n",
       "    }\n",
       "</style>\n",
       "<table border=\"1\" class=\"dataframe\">\n",
       "  <thead>\n",
       "    <tr style=\"text-align: right;\">\n",
       "      <th></th>\n",
       "      <th>year</th>\n",
       "      <th>playername</th>\n",
       "      <th>position</th>\n",
       "      <th>earned gpm</th>\n",
       "      <th>dpm</th>\n",
       "      <th>cspm</th>\n",
       "      <th>kills_assists_deaths_metric</th>\n",
       "      <th>result</th>\n",
       "      <th>target</th>\n",
       "    </tr>\n",
       "  </thead>\n",
       "  <tbody>\n",
       "    <tr>\n",
       "      <th>0</th>\n",
       "      <td>2014</td>\n",
       "      <td>Yazuki</td>\n",
       "      <td>top</td>\n",
       "      <td>194.9940</td>\n",
       "      <td>423.6769</td>\n",
       "      <td>7.5686</td>\n",
       "      <td>3.500000</td>\n",
       "      <td>0</td>\n",
       "      <td>1</td>\n",
       "    </tr>\n",
       "    <tr>\n",
       "      <th>5</th>\n",
       "      <td>2014</td>\n",
       "      <td>Jezie</td>\n",
       "      <td>top</td>\n",
       "      <td>245.9212</td>\n",
       "      <td>290.7123</td>\n",
       "      <td>6.6375</td>\n",
       "      <td>5.333333</td>\n",
       "      <td>1</td>\n",
       "      <td>0</td>\n",
       "    </tr>\n",
       "    <tr>\n",
       "      <th>11</th>\n",
       "      <td>2014</td>\n",
       "      <td>Jezie</td>\n",
       "      <td>top</td>\n",
       "      <td>183.3990</td>\n",
       "      <td>463.0260</td>\n",
       "      <td>5.3413</td>\n",
       "      <td>2.500000</td>\n",
       "      <td>1</td>\n",
       "      <td>0</td>\n",
       "    </tr>\n",
       "    <tr>\n",
       "      <th>17</th>\n",
       "      <td>2014</td>\n",
       "      <td>Yazuki</td>\n",
       "      <td>top</td>\n",
       "      <td>241.1823</td>\n",
       "      <td>687.1499</td>\n",
       "      <td>7.7692</td>\n",
       "      <td>10.000000</td>\n",
       "      <td>0</td>\n",
       "      <td>1</td>\n",
       "    </tr>\n",
       "    <tr>\n",
       "      <th>22</th>\n",
       "      <td>2014</td>\n",
       "      <td>Sphinx</td>\n",
       "      <td>top</td>\n",
       "      <td>186.3969</td>\n",
       "      <td>466.1892</td>\n",
       "      <td>6.9874</td>\n",
       "      <td>1.000000</td>\n",
       "      <td>0</td>\n",
       "      <td>0</td>\n",
       "    </tr>\n",
       "  </tbody>\n",
       "</table>\n",
       "</div>"
      ],
      "text/plain": [
       "    year playername position  earned gpm       dpm    cspm  \\\n",
       "0   2014     Yazuki      top    194.9940  423.6769  7.5686   \n",
       "5   2014      Jezie      top    245.9212  290.7123  6.6375   \n",
       "11  2014      Jezie      top    183.3990  463.0260  5.3413   \n",
       "17  2014     Yazuki      top    241.1823  687.1499  7.7692   \n",
       "22  2014     Sphinx      top    186.3969  466.1892  6.9874   \n",
       "\n",
       "    kills_assists_deaths_metric  result  target  \n",
       "0                      3.500000       0       1  \n",
       "5                      5.333333       1       0  \n",
       "11                     2.500000       1       0  \n",
       "17                    10.000000       0       1  \n",
       "22                     1.000000       0       0  "
      ]
     },
     "execution_count": 15,
     "metadata": {},
     "output_type": "execute_result"
    }
   ],
   "source": [
    "df_top.head(5)"
   ]
  },
  {
   "cell_type": "markdown",
   "id": "ce4c30f0-cddc-4bd3-b112-fb277d428182",
   "metadata": {
    "tags": []
   },
   "source": [
    "## Functions to Preprocess data"
   ]
  },
  {
   "cell_type": "code",
   "execution_count": 16,
   "id": "4a8bedd4-568d-4ed7-a3bc-4af3408d6937",
   "metadata": {},
   "outputs": [],
   "source": [
    "def create_train_test_tensors(df):\n",
    "    ''' this function creates train and test sets'''\n",
    "    \n",
    "    # list the first year each player is active in a df\n",
    "    name_year_list = df[['playername','year','target']].groupby(by=\"playername\").min()\n",
    "    name_year_list = name_year_list.reset_index()\n",
    "    \n",
    "    #create tensor with matches for first year of each player\n",
    "    tensor = []\n",
    "    #features = ['earned gpm', 'dpm', 'cspm', 'kills_assists_deaths_metric', 'result','playername','target']\n",
    "    features = ['result','playername','target']\n",
    "    for index, row in name_year_list.iterrows():\n",
    "        tensor.append(df.loc[(df['playername']==row['playername'])&(df['year']==row['year']), features])\n",
    "        \n",
    "    # Create X and y\n",
    "    X = np.array(tensor, dtype=object)\n",
    "    y = name_year_list['target'].astype('int32')\n",
    "    \n",
    "    #split train and test set\n",
    "    X_train, X_test, y_train, y_test = train_test_split(X, y, test_size=0.3)\n",
    "    \n",
    "    return X_train, X_test, y_train, y_test"
   ]
  },
  {
   "cell_type": "code",
   "execution_count": 17,
   "id": "67d8c696-f8c6-45c4-aaed-626c1c4a1f8d",
   "metadata": {},
   "outputs": [],
   "source": [
    "def preprocess_data(X_train, X_test):\n",
    "    \n",
    "    #untensor train and test data. Create long list of all matches. This has to be done for the scaling.\n",
    "    X_train_untensored = pd.DataFrame()\n",
    "    for player in range(len(X_train)):\n",
    "        X_train_untensored = pd.concat([X_train_untensored, X_train[player]])\n",
    "        \n",
    "    X_test_untensored = pd.DataFrame()\n",
    "    for player in range(len(X_test)):\n",
    "        X_test_untensored = pd.concat([X_test_untensored, X_test[player]])\n",
    "    \n",
    "    #create preprocessing pipeline for Imputing then scaling numerical values: \n",
    "    num_transformer = make_pipeline(SimpleImputer(), StandardScaler())\n",
    "    preprocessing = make_column_transformer(\n",
    "        #(num_transformer, ['earned gpm', 'dpm', 'cspm', 'kills_assists_deaths_metric', 'result']),\n",
    "        (num_transformer, ['result']),\n",
    "        #(cat_transformer, cat_col),\n",
    "        remainder='passthrough')\n",
    "    \n",
    "    # fit & scale train data. Only scale test data.\n",
    "    X_train_transformed = pd.DataFrame(preprocessing.fit_transform(X_train_untensored))\n",
    "    X_test_transformed = pd.DataFrame(preprocessing.transform(X_test_untensored))\n",
    "    \n",
    "    #make tensor again for train and test data\n",
    "    features = [0]\n",
    "\n",
    "    unique_players_train = X_train_transformed[1].unique()\n",
    "    X_train_tensor = []\n",
    "    for name in unique_players_train:\n",
    "        X_train_tensor.append(X_train_transformed.loc[(X_train_transformed[1]==name), features])\n",
    "        \n",
    "    unique_players_test = X_test_transformed[1].unique()\n",
    "    X_test_tensor = []\n",
    "    for name in unique_players_test:\n",
    "        X_test_tensor.append(X_test_transformed.loc[(X_test_transformed[1]==name), features])\n",
    "        \n",
    "    # Padding train and test data\n",
    "    X_train_preprocessed = pad_sequences(np.array(X_train_tensor, dtype=object), dtype='float32', padding = 'post', value=-1000, maxlen=150) # int32 by default\n",
    "    X_test_preprocessed = pad_sequences(np.array(X_test_tensor, dtype=object), dtype='float32', padding = 'post', value=-1000, maxlen=150) # int32 by default\n",
    "    \n",
    "    return X_train_preprocessed, X_test_preprocessed"
   ]
  },
  {
   "cell_type": "code",
   "execution_count": 18,
   "id": "50f47747-66a0-4b57-9b6a-0cdeb54e0028",
   "metadata": {},
   "outputs": [],
   "source": [
    "def oversample_train_data(X_train_preprocessed, y_train):\n",
    "\n",
    "    # define oversampling strategy\n",
    "    oversample = RandomOverSampler(sampling_strategy=0.3)\n",
    "    \n",
    "    (a,b,c) = X_train_preprocessed.shape\n",
    "\n",
    "    #shape and reshape\n",
    "    X_train_reshape = X_train_preprocessed.reshape(a, b * c)\n",
    "    \n",
    "    # fit and apply the transform\n",
    "    X_train_over, y_train_over = oversample.fit_resample(X_train_reshape, y_train)\n",
    "    (d,e) = X_train_over.shape\n",
    "    \n",
    "    X_train_over = X_train_over.reshape(d, b, c)\n",
    "    \n",
    "    return X_train_over, y_train_over"
   ]
  },
  {
   "cell_type": "markdown",
   "id": "4f2f6881-ba62-4cda-b470-b2e0e71eed89",
   "metadata": {
    "tags": []
   },
   "source": [
    "## Preprocess data"
   ]
  },
  {
   "cell_type": "markdown",
   "id": "dd1afc36-5fb6-468e-a1ca-91d0868842eb",
   "metadata": {
    "tags": []
   },
   "source": [
    "### 0. Process data for all players"
   ]
  },
  {
   "cell_type": "code",
   "execution_count": 19,
   "id": "30a66125-991d-4111-9add-a57c0555f431",
   "metadata": {},
   "outputs": [
    {
     "name": "stdout",
     "output_type": "stream",
     "text": [
      "Shape of preprocessed X_train and X_test data for all players:\n",
      "(2165, 150, 1) (928, 150, 1)\n"
     ]
    }
   ],
   "source": [
    "#create X and y data\n",
    "X_all_train, X_all_test, y_all_train, y_all_test = create_train_test_tensors(df)\n",
    "\n",
    "#preprocess X_train and X_test\n",
    "X_all_train_preprocessed, X_all_test_preprocessed = preprocess_data(X_all_train, X_all_test)\n",
    "print(f\"Shape of preprocessed X_train and X_test data for all players:\")\n",
    "print(X_all_train_preprocessed.shape, X_all_test_preprocessed.shape)\n",
    "\n",
    "#oversample train data\n",
    "#X_all_train_over, y_all_train_over = oversample_train_data(X_all_train_preprocessed, y_all_train)\n",
    "#print(f\"\\n Shape of oversampled X_train and y_train data for all players:\")\n",
    "#print(X_all_train_over.shape, y_all_train_over.shape)"
   ]
  },
  {
   "cell_type": "markdown",
   "id": "6e55c249-6eb3-4e61-a6b4-42e3d22d0b99",
   "metadata": {
    "jp-MarkdownHeadingCollapsed": true,
    "tags": []
   },
   "source": [
    "### 1. Process data for \"top\" players"
   ]
  },
  {
   "cell_type": "code",
   "execution_count": null,
   "id": "9e3a6bb3-745e-4a2b-a57d-3d4df4923694",
   "metadata": {},
   "outputs": [],
   "source": [
    "#create X and y data\n",
    "X_top_train, X_top_test, y_top_train, y_top_test = create_train_test_tensors(df_top)\n",
    "\n",
    "#preprocess X_train and X_test\n",
    "X_top_train_preprocessed, X_top_test_preprocessed = preprocess_data(X_top_train, X_top_test)\n",
    "print(f\"Shape of preprocessed X_train and X_test data for 'top' players:\")\n",
    "print(X_top_train_preprocessed.shape, X_top_test_preprocessed.shape)\n",
    "\n",
    "#oversample train data\n",
    "#X_top_train_over, y_top_train_over = oversample_train_data(X_top_train_preprocessed, y_top_train)\n",
    "#print(f\"\\n Shape of oversampled X_train and y_train data for 'top' players:\")\n",
    "#print(X_top_train_over.shape, y_top_train_over.shape)"
   ]
  },
  {
   "cell_type": "markdown",
   "id": "8cce3559-4edc-43ac-b17d-c56efe177262",
   "metadata": {
    "jp-MarkdownHeadingCollapsed": true,
    "tags": []
   },
   "source": [
    "### 2. Process data for \"jng\" players"
   ]
  },
  {
   "cell_type": "code",
   "execution_count": null,
   "id": "1bedee01-bac4-4f3e-81b2-90b8949b687e",
   "metadata": {},
   "outputs": [],
   "source": [
    "#create X and y data\n",
    "X_jng_train, X_jng_test, y_jng_train, y_jng_test = create_train_test_tensors(df_jng)\n",
    "\n",
    "#preprocess X_train and X_test\n",
    "X_jng_train_preprocessed, X_jng_test_preprocessed = preprocess_data(X_jng_train, X_jng_test)\n",
    "print(f\"Shape of preprocessed X_train and X_test data for 'jng' players:\")\n",
    "print(X_jng_train_preprocessed.shape, X_jng_test_preprocessed.shape)\n",
    "\n",
    "#oversample train data\n",
    "#X_jng_train_over, y_jng_train_over = oversample_train_data(X_jng_train_preprocessed, y_jng_train)\n",
    "#print(f\"\\n Shape of oversampled X_train and y_train data for 'top' players:\")\n",
    "#print(X_jng_train_over.shape, y_jng_train_over.shape)"
   ]
  },
  {
   "cell_type": "markdown",
   "id": "171095b4-40f9-4666-8ea3-c303a1c0dc57",
   "metadata": {
    "jp-MarkdownHeadingCollapsed": true,
    "tags": []
   },
   "source": [
    "### 3. Process data for \"mid\" players"
   ]
  },
  {
   "cell_type": "code",
   "execution_count": null,
   "id": "3dfce05d-ff40-4b26-8c2b-1890d36029f7",
   "metadata": {},
   "outputs": [],
   "source": [
    "#create X and y data\n",
    "X_mid_train, X_mid_test, y_mid_train, y_mid_test = create_train_test_tensors(df_mid)\n",
    "\n",
    "#preprocess X_train and X_test\n",
    "X_mid_train_preprocessed, X_mid_test_preprocessed = preprocess_data(X_mid_train, X_mid_test)\n",
    "print(f\"Shape of preprocessed X_train and X_test data for 'mid' players:\")\n",
    "print(X_mid_train_preprocessed.shape, X_mid_test_preprocessed.shape)\n",
    "\n",
    "#oversample train data\n",
    "#X_mid_train_over, y_mid_train_over = oversample_train_data(X_mid_train_preprocessed, y_mid_train)\n",
    "#print(f\"\\n Shape of oversampled X_train and y_train data for 'mid' players:\")\n",
    "#print(X_mid_train_over.shape, y_mid_train_over.shape)"
   ]
  },
  {
   "cell_type": "markdown",
   "id": "a4a032e2-7ac4-4aef-9846-469275a51e8d",
   "metadata": {
    "jp-MarkdownHeadingCollapsed": true,
    "tags": []
   },
   "source": [
    "### 4. Process data for \"bot\" players"
   ]
  },
  {
   "cell_type": "code",
   "execution_count": null,
   "id": "0ed614eb-f2c0-46de-a310-5dc7e2a1a0f4",
   "metadata": {},
   "outputs": [],
   "source": [
    "\n",
    "#create X and y data\n",
    "X_bot_train, X_bot_test, y_bot_train, y_bot_test = create_train_test_tensors(df_bot)\n",
    "\n",
    "#preprocess X_train and X_test\n",
    "X_bot_train_preprocessed, X_bot_test_preprocessed = preprocess_data(X_bot_train, X_bot_test)\n",
    "print(f\"Shape of preprocessed X_train and X_test data for 'bot' players:\")\n",
    "print(X_bot_train_preprocessed.shape, X_bot_test_preprocessed.shape)\n",
    "\n",
    "#oversample train data\n",
    "#X_bot_train_over, y_bot_train_over = oversample_train_data(X_bot_train_preprocessed, y_bot_train)\n",
    "#print(f\"\\n Shape of oversampled X_train and y_train data for 'bot' players:\")\n",
    "#print(X_bot_train_over.shape, y_bot_train_over.shape)"
   ]
  },
  {
   "cell_type": "markdown",
   "id": "397bad7f-fb9c-478d-a806-4288d8e2dd12",
   "metadata": {
    "jp-MarkdownHeadingCollapsed": true,
    "tags": []
   },
   "source": [
    "### 5. Process data for \"sup\" players"
   ]
  },
  {
   "cell_type": "code",
   "execution_count": null,
   "id": "59bbc7d0-44d4-48ef-9469-1c008f320f19",
   "metadata": {},
   "outputs": [],
   "source": [
    "#create X and y data\n",
    "X_sup_train, X_sup_test, y_sup_train, y_sup_test = create_train_test_tensors(df_sup)\n",
    "\n",
    "#preprocess X_train and X_test\n",
    "X_sup_train_preprocessed, X_sup_test_preprocessed = preprocess_data(X_sup_train, X_sup_test)\n",
    "print(f\"Shape of preprocessed X_train and X_test data for 'sup' players:\")\n",
    "print(X_sup_train_preprocessed.shape, X_sup_test_preprocessed.shape)\n",
    "\n",
    "#oversample train data\n",
    "#X_sup_train_over, y_sup_train_over = oversample_train_data(X_sup_train_preprocessed, y_sup_train)\n",
    "#print(f\"\\n Shape of oversampled X_test and y_test data for 'sup' players:\")\n",
    "#print(X_sup_train_over.shape, y_sup_train_over.shape)"
   ]
  },
  {
   "cell_type": "markdown",
   "id": "d510aed3-4300-4522-93e6-893cba26b951",
   "metadata": {
    "tags": []
   },
   "source": [
    "## RNN model"
   ]
  },
  {
   "cell_type": "markdown",
   "id": "4231f94b-ae7b-4125-bf4b-2f34a33e2a23",
   "metadata": {
    "tags": []
   },
   "source": [
    "### Functions for metrics and plotting results"
   ]
  },
  {
   "cell_type": "code",
   "execution_count": 20,
   "id": "104932a8-5c12-4274-aa54-31ff6da91c14",
   "metadata": {},
   "outputs": [],
   "source": [
    "# function for defining the f1-metric\n",
    "import keras.backend as K\n",
    "\n",
    "def f1_metric(y_true, y_pred):\n",
    "    true_positives = K.sum(K.round(K.clip(y_true * y_pred, 0, 1)))\n",
    "    possible_positives = K.sum(K.round(K.clip(y_true, 0, 1)))\n",
    "    predicted_positives = K.sum(K.round(K.clip(y_pred, 0, 1)))\n",
    "    precision = true_positives / (predicted_positives + K.epsilon())\n",
    "    recall = true_positives / (possible_positives + K.epsilon())\n",
    "    f1_val = 2*(precision*recall)/(precision+recall+K.epsilon())\n",
    "    return f1_val"
   ]
  },
  {
   "cell_type": "code",
   "execution_count": 21,
   "id": "8117fe40-40a1-4f39-8433-5fd8b05928fa",
   "metadata": {},
   "outputs": [],
   "source": [
    "#functions for plotting the model.fit history\n",
    "\n",
    "def plot_history(history):\n",
    "    plt.plot(np.sqrt(history.history['loss']))\n",
    "    plt.plot(np.sqrt(history.history['val_loss']))\n",
    "    plt.title('Model Loss')\n",
    "    plt.ylabel('RMSLE')\n",
    "    plt.xlabel('Epoch')\n",
    "    plt.legend(['Train', 'Val'], loc='best')\n",
    "    plt.show()\n",
    "    \n",
    "def plot_history2(history):\n",
    "    plt.plot(history.history['f1_metric'])\n",
    "    plt.plot(history.history['val_f1_metric'])\n",
    "    plt.title('Model f1 score')\n",
    "    plt.ylabel('f1 score')\n",
    "    plt.xlabel('Epoch')\n",
    "    plt.legend(['Train', 'Val'], loc='best')\n",
    "    plt.show()\n",
    "    \n",
    "def plot_history3(history):\n",
    "    plt.plot(history.history['accuracy'])\n",
    "    plt.plot(history.history['val_accuracy'])\n",
    "    plt.title('Model accuracy')\n",
    "    plt.ylabel('accuracy')\n",
    "    plt.xlabel('Epoch')\n",
    "    plt.legend(['Train', 'Val'], loc='best')\n",
    "    plt.show()\n",
    "    \n",
    "def plot_history4(history):\n",
    "    plt.plot(history.history['recall'])\n",
    "    plt.plot(history.history['val_recall'])\n",
    "    plt.title('Model recall')\n",
    "    plt.ylabel('recall')\n",
    "    plt.xlabel('Epoch')\n",
    "    plt.legend(['Train', 'Val'], loc='best')\n",
    "    plt.show()"
   ]
  },
  {
   "cell_type": "markdown",
   "id": "d0955b77-4e40-4669-ae07-2e40f0081f93",
   "metadata": {
    "tags": []
   },
   "source": [
    "### Fitting the model"
   ]
  },
  {
   "cell_type": "code",
   "execution_count": 22,
   "id": "e4909bb8-73d8-4d2b-acc2-bda08ede190a",
   "metadata": {},
   "outputs": [
    {
     "data": {
      "text/plain": [
       "0    1430\n",
       "1     735\n",
       "Name: target, dtype: int64"
      ]
     },
     "execution_count": 22,
     "metadata": {},
     "output_type": "execute_result"
    }
   ],
   "source": [
    "y_all_train.value_counts()"
   ]
  },
  {
   "cell_type": "code",
   "execution_count": 23,
   "id": "9eaf561f-e988-4e2c-8cde-498da6c4a088",
   "metadata": {},
   "outputs": [
    {
     "data": {
      "text/plain": [
       "0.32424942263279444"
      ]
     },
     "execution_count": 23,
     "metadata": {},
     "output_type": "execute_result"
    }
   ],
   "source": [
    "702/(1463+702)"
   ]
  },
  {
   "cell_type": "code",
   "execution_count": 24,
   "id": "f10afdb3-6093-410d-9874-6c4bc770d23a",
   "metadata": {},
   "outputs": [
    {
     "data": {
      "text/plain": [
       "0    650\n",
       "1    278\n",
       "Name: target, dtype: int64"
      ]
     },
     "execution_count": 24,
     "metadata": {},
     "output_type": "execute_result"
    }
   ],
   "source": [
    "y_all_test.value_counts()"
   ]
  },
  {
   "cell_type": "code",
   "execution_count": 25,
   "id": "a13059f0-ac27-40bd-905f-5e67de33ace7",
   "metadata": {},
   "outputs": [
    {
     "data": {
      "text/plain": [
       "0.33512931034482757"
      ]
     },
     "execution_count": 25,
     "metadata": {},
     "output_type": "execute_result"
    }
   ],
   "source": [
    "311/(617+311)"
   ]
  },
  {
   "cell_type": "code",
   "execution_count": 26,
   "id": "adbc199b-ace6-4a34-8d41-695ab0f34405",
   "metadata": {
    "tags": []
   },
   "outputs": [
    {
     "name": "stderr",
     "output_type": "stream",
     "text": [
      "2022-09-08 10:18:59.521899: I tensorflow/core/platform/cpu_feature_guard.cc:151] This TensorFlow binary is optimized with oneAPI Deep Neural Network Library (oneDNN) to use the following CPU instructions in performance-critical operations:  AVX2 FMA\n",
      "To enable them in other operations, rebuild TensorFlow with the appropriate compiler flags.\n"
     ]
    },
    {
     "name": "stdout",
     "output_type": "stream",
     "text": [
      "Epoch 1/100\n",
      "48/48 [==============================] - 10s 135ms/step - loss: 0.6957 - accuracy: 0.4706 - precision: 0.2465 - recall: 0.2724 - val_loss: 0.6672 - val_accuracy: 0.6600 - val_precision: 0.0000e+00 - val_recall: 0.0000e+00\n",
      "Epoch 2/100\n",
      "48/48 [==============================] - 6s 128ms/step - loss: 0.6310 - accuracy: 0.6607 - precision: 0.5000 - recall: 0.0019 - val_loss: 0.6139 - val_accuracy: 0.6646 - val_precision: 0.6364 - val_recall: 0.0317\n",
      "Epoch 3/100\n",
      "48/48 [==============================] - 7s 151ms/step - loss: 0.5906 - accuracy: 0.6779 - precision: 0.6548 - recall: 0.1070 - val_loss: 0.6032 - val_accuracy: 0.6862 - val_precision: 0.6269 - val_recall: 0.1900\n",
      "Epoch 4/100\n",
      "48/48 [==============================] - 7s 153ms/step - loss: 0.5803 - accuracy: 0.6944 - precision: 0.6409 - recall: 0.2257 - val_loss: 0.5992 - val_accuracy: 0.6969 - val_precision: 0.6154 - val_recall: 0.2896\n",
      "Epoch 5/100\n",
      "48/48 [==============================] - 6s 129ms/step - loss: 0.5753 - accuracy: 0.7149 - precision: 0.6454 - recall: 0.3541 - val_loss: 0.5977 - val_accuracy: 0.6938 - val_precision: 0.5932 - val_recall: 0.3167\n",
      "Epoch 6/100\n",
      "48/48 [==============================] - 6s 120ms/step - loss: 0.5726 - accuracy: 0.7129 - precision: 0.6416 - recall: 0.3482 - val_loss: 0.5969 - val_accuracy: 0.6877 - val_precision: 0.5726 - val_recall: 0.3213\n",
      "Epoch 7/100\n",
      "48/48 [==============================] - 6s 121ms/step - loss: 0.5726 - accuracy: 0.7122 - precision: 0.6219 - recall: 0.3872 - val_loss: 0.5973 - val_accuracy: 0.6938 - val_precision: 0.5932 - val_recall: 0.3167\n",
      "Epoch 8/100\n",
      "48/48 [==============================] - 7s 142ms/step - loss: 0.5719 - accuracy: 0.7102 - precision: 0.6271 - recall: 0.3599 - val_loss: 0.5963 - val_accuracy: 0.6862 - val_precision: 0.5680 - val_recall: 0.3213\n",
      "Epoch 9/100\n",
      "48/48 [==============================] - 6s 120ms/step - loss: 0.5689 - accuracy: 0.7135 - precision: 0.6242 - recall: 0.3911 - val_loss: 0.5962 - val_accuracy: 0.6862 - val_precision: 0.5669 - val_recall: 0.3258\n",
      "Epoch 10/100\n",
      "48/48 [==============================] - 6s 131ms/step - loss: 0.5682 - accuracy: 0.7149 - precision: 0.6273 - recall: 0.3930 - val_loss: 0.5961 - val_accuracy: 0.6908 - val_precision: 0.5758 - val_recall: 0.3439\n",
      "Epoch 11/100\n",
      "48/48 [==============================] - 6s 121ms/step - loss: 0.5688 - accuracy: 0.7142 - precision: 0.6231 - recall: 0.3988 - val_loss: 0.5956 - val_accuracy: 0.6862 - val_precision: 0.5659 - val_recall: 0.3303\n",
      "Epoch 12/100\n",
      "48/48 [==============================] - 5s 114ms/step - loss: 0.5669 - accuracy: 0.7168 - precision: 0.6254 - recall: 0.4125 - val_loss: 0.5958 - val_accuracy: 0.6908 - val_precision: 0.5758 - val_recall: 0.3439\n",
      "Epoch 13/100\n",
      "48/48 [==============================] - 11s 228ms/step - loss: 0.5661 - accuracy: 0.7149 - precision: 0.6152 - recall: 0.4261 - val_loss: 0.5962 - val_accuracy: 0.6908 - val_precision: 0.5758 - val_recall: 0.3439\n",
      "Epoch 14/100\n",
      "48/48 [==============================] - 14s 292ms/step - loss: 0.5660 - accuracy: 0.7129 - precision: 0.6179 - recall: 0.4027 - val_loss: 0.5962 - val_accuracy: 0.6892 - val_precision: 0.5725 - val_recall: 0.3394\n",
      "Epoch 15/100\n",
      "48/48 [==============================] - 11s 228ms/step - loss: 0.5667 - accuracy: 0.7149 - precision: 0.6206 - recall: 0.4105 - val_loss: 0.5958 - val_accuracy: 0.6908 - val_precision: 0.5769 - val_recall: 0.3394\n",
      "Epoch 16/100\n",
      "48/48 [==============================] - 10s 203ms/step - loss: 0.5646 - accuracy: 0.7142 - precision: 0.6188 - recall: 0.4105 - val_loss: 0.5956 - val_accuracy: 0.6938 - val_precision: 0.5833 - val_recall: 0.3484\n",
      "Epoch 17/100\n",
      "48/48 [==============================] - 9s 193ms/step - loss: 0.5665 - accuracy: 0.7168 - precision: 0.6225 - recall: 0.4202 - val_loss: 0.5961 - val_accuracy: 0.6892 - val_precision: 0.5725 - val_recall: 0.3394\n",
      "Epoch 18/100\n",
      "48/48 [==============================] - 10s 209ms/step - loss: 0.5646 - accuracy: 0.7175 - precision: 0.6229 - recall: 0.4241 - val_loss: 0.5955 - val_accuracy: 0.6954 - val_precision: 0.5827 - val_recall: 0.3665\n",
      "Epoch 19/100\n",
      "48/48 [==============================] - 8s 158ms/step - loss: 0.5652 - accuracy: 0.7149 - precision: 0.6145 - recall: 0.4280 - val_loss: 0.5958 - val_accuracy: 0.6908 - val_precision: 0.5725 - val_recall: 0.3575\n",
      "Epoch 20/100\n",
      "48/48 [==============================] - 8s 159ms/step - loss: 0.5646 - accuracy: 0.7168 - precision: 0.6239 - recall: 0.4163 - val_loss: 0.5962 - val_accuracy: 0.6908 - val_precision: 0.5746 - val_recall: 0.3484\n",
      "Epoch 21/100\n",
      "48/48 [==============================] - 6s 126ms/step - loss: 0.5652 - accuracy: 0.7149 - precision: 0.6213 - recall: 0.4086 - val_loss: 0.5963 - val_accuracy: 0.6923 - val_precision: 0.5745 - val_recall: 0.3665\n",
      "Epoch 22/100\n",
      "48/48 [==============================] - 6s 116ms/step - loss: 0.5658 - accuracy: 0.7142 - precision: 0.6154 - recall: 0.4202 - val_loss: 0.5952 - val_accuracy: 0.6923 - val_precision: 0.5745 - val_recall: 0.3665\n",
      "Epoch 23/100\n",
      "48/48 [==============================] - 6s 124ms/step - loss: 0.5627 - accuracy: 0.7182 - precision: 0.6246 - recall: 0.4241 - val_loss: 0.5963 - val_accuracy: 0.6908 - val_precision: 0.5735 - val_recall: 0.3529\n",
      "Epoch 24/100\n",
      "48/48 [==============================] - 6s 127ms/step - loss: 0.5607 - accuracy: 0.7155 - precision: 0.6203 - recall: 0.4163 - val_loss: 0.5961 - val_accuracy: 0.6892 - val_precision: 0.5693 - val_recall: 0.3529\n",
      "Epoch 25/100\n",
      "48/48 [==============================] - 6s 122ms/step - loss: 0.5642 - accuracy: 0.7122 - precision: 0.6083 - recall: 0.4261 - val_loss: 0.5955 - val_accuracy: 0.6923 - val_precision: 0.5734 - val_recall: 0.3710\n",
      "Epoch 26/100\n",
      "48/48 [==============================] - 6s 126ms/step - loss: 0.5631 - accuracy: 0.7182 - precision: 0.6254 - recall: 0.4222 - val_loss: 0.5956 - val_accuracy: 0.6938 - val_precision: 0.5786 - val_recall: 0.3665\n",
      "Epoch 27/100\n",
      "48/48 [==============================] - 6s 121ms/step - loss: 0.5635 - accuracy: 0.7201 - precision: 0.6278 - recall: 0.4300 - val_loss: 0.5955 - val_accuracy: 0.6938 - val_precision: 0.5733 - val_recall: 0.3891\n",
      "Epoch 28/100\n",
      "48/48 [==============================] - 11s 227ms/step - loss: 0.5623 - accuracy: 0.7195 - precision: 0.6305 - recall: 0.4183 - val_loss: 0.5963 - val_accuracy: 0.6923 - val_precision: 0.5714 - val_recall: 0.3801\n",
      "Epoch 29/100\n",
      "48/48 [==============================] - 11s 227ms/step - loss: 0.5601 - accuracy: 0.7182 - precision: 0.6246 - recall: 0.4241 - val_loss: 0.5956 - val_accuracy: 0.6923 - val_precision: 0.5695 - val_recall: 0.3891\n",
      "Epoch 30/100\n",
      "48/48 [==============================] - 10s 200ms/step - loss: 0.5627 - accuracy: 0.7122 - precision: 0.6114 - recall: 0.4163 - val_loss: 0.5953 - val_accuracy: 0.6908 - val_precision: 0.5667 - val_recall: 0.3846\n",
      "Epoch 31/100\n",
      "48/48 [==============================] - 9s 192ms/step - loss: 0.5619 - accuracy: 0.7188 - precision: 0.6215 - recall: 0.4377 - val_loss: 0.5961 - val_accuracy: 0.6938 - val_precision: 0.5714 - val_recall: 0.3982\n",
      "Epoch 32/100\n",
      "48/48 [==============================] - 9s 179ms/step - loss: 0.5628 - accuracy: 0.7188 - precision: 0.6215 - recall: 0.4377 - val_loss: 0.5968 - val_accuracy: 0.6923 - val_precision: 0.5695 - val_recall: 0.3891\n",
      "Epoch 33/100\n",
      "48/48 [==============================] - 7s 155ms/step - loss: 0.5619 - accuracy: 0.7208 - precision: 0.6226 - recall: 0.4494 - val_loss: 0.5956 - val_accuracy: 0.6923 - val_precision: 0.5686 - val_recall: 0.3937\n",
      "Epoch 34/100\n",
      "48/48 [==============================] - 8s 161ms/step - loss: 0.5606 - accuracy: 0.7215 - precision: 0.6307 - recall: 0.4319 - val_loss: 0.5965 - val_accuracy: 0.6923 - val_precision: 0.5695 - val_recall: 0.3891\n",
      "Epoch 35/100\n",
      "48/48 [==============================] - 7s 142ms/step - loss: 0.5606 - accuracy: 0.7248 - precision: 0.6414 - recall: 0.4280 - val_loss: 0.5964 - val_accuracy: 0.6892 - val_precision: 0.5638 - val_recall: 0.3801\n",
      "Epoch 36/100\n",
      "48/48 [==============================] - 6s 126ms/step - loss: 0.5609 - accuracy: 0.7221 - precision: 0.6247 - recall: 0.4533 - val_loss: 0.5965 - val_accuracy: 0.6954 - val_precision: 0.5762 - val_recall: 0.3937\n",
      "Epoch 37/100\n",
      "48/48 [==============================] - 6s 120ms/step - loss: 0.5613 - accuracy: 0.7149 - precision: 0.6152 - recall: 0.4261 - val_loss: 0.5955 - val_accuracy: 0.6969 - val_precision: 0.5800 - val_recall: 0.3937\n"
     ]
    }
   ],
   "source": [
    "from tensorflow.keras import layers, regularizers\n",
    "from tensorflow.keras.models import Sequential\n",
    "from tensorflow.keras.callbacks import EarlyStopping\n",
    "from tensorflow.keras.metrics import Precision, Recall\n",
    "\n",
    "es = EarlyStopping(monitor='val_loss', patience=15, restore_best_weights=True)\n",
    "reg_l2 = regularizers.L2(0.02)\n",
    "\n",
    "(a,b,c) = X_all_train_preprocessed.shape\n",
    "\n",
    "# –– Model\n",
    "model = Sequential()\n",
    "model.add(layers.Masking(mask_value=-1000, input_shape=(b, c)))\n",
    "model.add(layers.LSTM(units=10, activation='tanh', recurrent_dropout=0.3)) #LSTM (recurrent or dropout) or GRU, tanh as activation\n",
    "#model.add(layers.SimpleRNN(2, activation='relu'))\n",
    "model.add(layers.Dense(1, activation='sigmoid'))\n",
    "\n",
    "# –– Compilation\n",
    "model.compile(loss='binary_crossentropy', \n",
    "              optimizer='adam',\n",
    "              metrics=['accuracy','Precision','Recall'])\n",
    "\n",
    "# –– Fit\n",
    "history = model.fit(X_all_train_preprocessed, y_all_train, \n",
    "          epochs=100, \n",
    "          validation_split = 0.3,\n",
    "          callbacks=[es]); #check if we can make the early stopping on the f1-metric of the validation -> monitor?\n",
    "\n",
    "#plot_history2(history)"
   ]
  },
  {
   "cell_type": "code",
   "execution_count": 45,
   "id": "b9b3beb5-9c86-42dd-ac10-ad1cb423d3b4",
   "metadata": {
    "tags": []
   },
   "outputs": [
    {
     "name": "stdout",
     "output_type": "stream",
     "text": [
      "29/29 [==============================] - 1s 15ms/step - loss: 0.5463 - accuracy: 0.7263 - f1_metric: 0.5051 - precision: 0.6351 - recall: 0.4309\n"
     ]
    },
    {
     "data": {
      "text/plain": [
       "[0.5462731122970581,\n",
       " 0.7262930870056152,\n",
       " 0.5050623416900635,\n",
       " 0.6350710988044739,\n",
       " 0.4308681786060333]"
      ]
     },
     "execution_count": 45,
     "metadata": {},
     "output_type": "execute_result"
    }
   ],
   "source": [
    "model.evaluate(X_all_test_preprocessed,y_all_test)"
   ]
  },
  {
   "cell_type": "code",
   "execution_count": 46,
   "id": "81e5b540-368d-4dcb-84c9-382a90e4fa23",
   "metadata": {},
   "outputs": [
    {
     "data": {
      "image/png": "[encoded data removed]",
      "text/plain": [
       "<Figure size 432x288 with 1 Axes>"
      ]
     },
     "metadata": {
      "needs_background": "light"
     },
     "output_type": "display_data"
    }
   ],
   "source": [
    "plot_history(history)"
   ]
  },
  {
   "cell_type": "code",
   "execution_count": 47,
   "id": "4282bc52-c684-4882-9ca4-bf19b0046606",
   "metadata": {},
   "outputs": [
    {
     "data": {
      "image/png": "[encoded data removed]",
      "text/plain": [
       "<Figure size 432x288 with 1 Axes>"
      ]
     },
     "metadata": {
      "needs_background": "light"
     },
     "output_type": "display_data"
    }
   ],
   "source": [
    "plot_history2(history)"
   ]
  },
  {
   "cell_type": "code",
   "execution_count": 48,
   "id": "b63ec272-1032-4d27-973f-3e16daa9d16c",
   "metadata": {},
   "outputs": [
    {
     "data": {
      "image/png": "[encoded data removed]",
      "text/plain": [
       "<Figure size 432x288 with 1 Axes>"
      ]
     },
     "metadata": {
      "needs_background": "light"
     },
     "output_type": "display_data"
    }
   ],
   "source": [
    "plot_history3(history)"
   ]
  },
  {
   "cell_type": "code",
   "execution_count": 49,
   "id": "031fb46b-4143-4965-b508-9bb460e5aeee",
   "metadata": {},
   "outputs": [
    {
     "data": {
      "image/png": "[encoded data removed]",
      "text/plain": [
       "<Figure size 432x288 with 1 Axes>"
      ]
     },
     "metadata": {
      "needs_background": "light"
     },
     "output_type": "display_data"
    }
   ],
   "source": [
    "plot_history4(history)"
   ]
  },
  {
   "cell_type": "code",
   "execution_count": 27,
   "id": "9065a245-2431-403a-a5dd-3bcce13250ec",
   "metadata": {},
   "outputs": [],
   "source": [
    "model.save('my_model2.h5')"
   ]
  },
  {
   "cell_type": "markdown",
   "id": "b93ccbee-ab26-44c9-867a-1378f58080f0",
   "metadata": {
    "jp-MarkdownHeadingCollapsed": true,
    "tags": []
   },
   "source": [
    "# OLD"
   ]
  },
  {
   "cell_type": "markdown",
   "id": "96e3c94e-4cfb-4684-84b4-4ffaf2e5bd75",
   "metadata": {
    "jp-MarkdownHeadingCollapsed": true,
    "tags": []
   },
   "source": [
    "### f1 baseline score (0)"
   ]
  },
  {
   "cell_type": "code",
   "execution_count": null,
   "id": "bc11b11c-83a1-4c6a-9e36-9909fa4a52c8",
   "metadata": {
    "tags": []
   },
   "outputs": [],
   "source": [
    "y_pred_test = model.predict(X_bot_test_preprocessed)"
   ]
  },
  {
   "cell_type": "code",
   "execution_count": null,
   "id": "66dcef79-e96a-4c4f-86ff-fb864c5c0c21",
   "metadata": {},
   "outputs": [],
   "source": [
    "#always predict 0, estimate the f1-score => baseline\n",
    "\n",
    "#pred_all_0 = \n",
    "pred_top_0 = y_top_test.copy()\n",
    "pred_top_0[pred_top_0 > 0] = 0\n",
    "\n",
    "pred_jng_0 = y_jng_test.copy()\n",
    "pred_jng_0[pred_jng_0 > 0] = 0\n",
    "\n",
    "pred_mid_0 = y_mid_test.copy()\n",
    "pred_mid_0[pred_mid_0 > 0] = 0\n",
    "\n",
    "pred_bot_0 = y_bot_test.copy()\n",
    "pred_bot_0[pred_bot_0 > 0] = 0\n",
    "\n",
    "pred_sup_0 = y_sup_test.copy()\n",
    "pred_sup_0[pred_sup_0 > 0] = 0\n",
    "\n",
    "#estimate baseline f1 score\n",
    "baseline_all_f1 = \"X\" #f1_metric(y_all_test, y_pred)\n",
    "baseline_top_f1 = f1_metric(y_top_test.astype('float32'), pred_top_0.astype('float32'))\n",
    "baseline_jng_f1 = f1_metric(y_jng_test.astype('float32'), pred_jng_0.astype('float32'))\n",
    "baseline_mid_f1 = f1_metric(y_mid_test.astype('float32'), pred_mid_0.astype('float32')) \n",
    "baseline_bot_f1 = f1_metric(y_bot_test.astype('float32'), pred_bot_0.astype('float32'))\n",
    "baseline_sup_f1 = f1_metric(y_sup_test.astype('float32'), pred_sup_0.astype('float32'))\n",
    "\n",
    "#print baseline f1 results\n",
    "print(f\"f1 baseline scores\")\n",
    "print(f\"top: {baseline_top_f1}, jng: {baseline_jng_f1}, mid: {baseline_mid_f1}, bot: {baseline_bot_f1}, sup: {baseline_sup_f1}\")"
   ]
  },
  {
   "cell_type": "code",
   "execution_count": null,
   "id": "a29f430d-6444-4d4f-82f9-c0f1ef2edaab",
   "metadata": {},
   "outputs": [],
   "source": [
    "y_top_test.value_counts()"
   ]
  },
  {
   "cell_type": "code",
   "execution_count": null,
   "id": "4406cc7a-fb56-46ea-9ccf-613a16e54731",
   "metadata": {},
   "outputs": [],
   "source": [
    "# baseline accuracy\n",
    "#1 – (Number of misclassified samples / Total number of samples).\n",
    "\n",
    "baseline_accuracy_bot = 1 - len(y_bot_test[y_bot_test==1])/len(y_bot_test)\n",
    "baseline_accuracy_bot"
   ]
  },
  {
   "cell_type": "markdown",
   "id": "9bf152d1-8fdf-4ce2-a481-91da5473588e",
   "metadata": {
    "jp-MarkdownHeadingCollapsed": true,
    "tags": []
   },
   "source": [
    "### Dummy classifier"
   ]
  },
  {
   "cell_type": "code",
   "execution_count": null,
   "id": "28fea771-4bb0-4ba1-945b-4c2e9bd8e9b2",
   "metadata": {},
   "outputs": [],
   "source": [
    "from sklearn.dummy import DummyClassifier\n",
    "# create dummy classifier\n",
    "dummy_clf = DummyClassifier(strategy='uniform', random_state=0)\n",
    "# train a model\n",
    "dummy_clf.fit(X_bot_train_over, y_bot_train_over)\n",
    "# get accuracy score\n",
    "dummy_clf.score(X_bot_test_preprocessed, y_bot_test)"
   ]
  },
  {
   "cell_type": "code",
   "execution_count": null,
   "id": "07af5191-4b0e-4ba6-a9c0-1778982c3868",
   "metadata": {},
   "outputs": [],
   "source": [
    "# Impute then scale numerical values: \n",
    "num_transformer = make_pipeline(SimpleImputer(), StandardScaler())\n",
    "\n",
    "# Encode categorical values (do we have these?)\n",
    "#cat_transformer = OneHotEncoder()\n",
    "\n",
    "# Select automatically features based on dtype, or put in column names manually\n",
    "num_col = make_column_selector(dtype_include=['float64'])\n",
    "#cat_col = make_column_selector(dtype_include=['object','bool'])\n",
    "\n",
    "## Parallelize \"num_transformer\" and \"cat_transfomer\"\n",
    "preproc = make_column_transformer(\n",
    "    (num_transformer, ['earned gpm', 'dpm', 'cspm', 'kills_per_min', 'assists_per_min', 'deaths_per_min', 'result'])\n",
    "    #(cat_transformer, cat_col),\n",
    "    #remainder='passthrough'\n",
    ")\n",
    "\n",
    "# Visualizing Pipelines in HTML\n",
    "preproc"
   ]
  },
  {
   "cell_type": "code",
   "execution_count": null,
   "id": "281e1503-2897-4121-bd00-81772ca0dbdc",
   "metadata": {},
   "outputs": [],
   "source": [
    "#check new transformed dataframe\n",
    "X_train_transformed = preproc.fit_transform(X_top_train)\n",
    "X_train_transformed.shape\n",
    "#pd.DataFrame(\n",
    "#    X_train_transformed, \n",
    "#    columns=preproc.get_feature_names_out()\n",
    "#).head()"
   ]
  },
  {
   "cell_type": "code",
   "execution_count": null,
   "id": "c62262e1-73e9-4865-a3e5-4aa1e8ba7343",
   "metadata": {},
   "outputs": [],
   "source": [
    "y_top_train"
   ]
  },
  {
   "cell_type": "markdown",
   "id": "4a0c6d51-46ac-41ad-a595-6c5752c0c399",
   "metadata": {
    "tags": []
   },
   "source": [
    "## Model"
   ]
  },
  {
   "cell_type": "markdown",
   "id": "383284b4-b93f-4d31-8d94-2a7ab3e56e4b",
   "metadata": {
    "jp-MarkdownHeadingCollapsed": true,
    "tags": []
   },
   "source": [
    "### 2A. Model"
   ]
  },
  {
   "cell_type": "code",
   "execution_count": null,
   "id": "522ce862-7abe-473b-9a8a-2b12b1491daf",
   "metadata": {},
   "outputs": [],
   "source": [
    "# Import the model\n",
    "from sklearn.linear_model import LogisticRegression\n",
    "from sklearn.linear_model import SGDClassifier \n",
    "\n",
    "# Select model to use\n",
    "model = LogisticRegression(max_iter=1000)\n",
    "#model = SGDClassifier(loss='hinge', penalty='l2', alpha=1/10)\n",
    "\n",
    "# Make pipeline\n",
    "pipe = make_pipeline(preproc, model)\n",
    "pipe\n",
    "\n",
    "# Train Pipeline ⇒ with training data (~70% of full dataset). \n",
    "# Deselected as we want to grid search for best params.\n",
    "pipe.fit(X_top_train, y_top_train)"
   ]
  },
  {
   "cell_type": "code",
   "execution_count": null,
   "id": "d3f74dd5-9cf8-40b1-994a-32e82ae65bb0",
   "metadata": {},
   "outputs": [],
   "source": [
    "from sklearn.neighbors import KNeighborsClassifire"
   ]
  },
  {
   "cell_type": "code",
   "execution_count": null,
   "id": "0c9f9fdc-e5bb-4035-8eb2-0270154194a8",
   "metadata": {},
   "outputs": [],
   "source": [
    "model = KNeighborsClassifier(n_neighbors=15)\n",
    "\n",
    "model.fit(X_train_transformed, y_top_train)\n",
    "y_pred_test = model.predict(X_top_test)\n",
    "pd.DataFrame(y_pred_test).value_counts()"
   ]
  },
  {
   "cell_type": "code",
   "execution_count": null,
   "id": "fc1fd120-114d-4c0d-bd71-f3f9d07f42df",
   "metadata": {},
   "outputs": [],
   "source": [
    "model.score(X_top_test, y_top_test)"
   ]
  },
  {
   "cell_type": "code",
   "execution_count": null,
   "id": "7ff0d805-9a12-49eb-a94f-cfaf073320df",
   "metadata": {},
   "outputs": [],
   "source": [
    "X_top_test.shape, X_top_train.shape, y_top_test.shape, y_top_train.shape"
   ]
  },
  {
   "cell_type": "code",
   "execution_count": null,
   "id": "11b73bd4-315d-42e7-b9b1-568100dc1441",
   "metadata": {},
   "outputs": [],
   "source": [
    "y_pred = pipe.predict(X_top_test)\n",
    "pd.DataFrame(y_pred).value_counts()"
   ]
  },
  {
   "cell_type": "code",
   "execution_count": null,
   "id": "1682baae-5824-40ac-9b26-8ec30ed896fa",
   "metadata": {},
   "outputs": [],
   "source": [
    "pipe.score(X_top_test, y_top_test)"
   ]
  },
  {
   "cell_type": "code",
   "execution_count": null,
   "id": "9498abbc-8bce-4cfc-b341-e48ccdac91fe",
   "metadata": {},
   "outputs": [],
   "source": [
    "pipe.score(X_top_test, y_top_test)"
   ]
  },
  {
   "cell_type": "code",
   "execution_count": null,
   "id": "d7d0458e-21fc-41d2-ad99-8b86d5fb7b11",
   "metadata": {},
   "outputs": [],
   "source": [
    "#pipe.evaluate(X_top_test,np.ravel(y_top_test.to_numpy()))\n",
    "cross_val_score(pipe, X_top_train, y_top_train, cv=5, scoring='r2').mean()"
   ]
  },
  {
   "cell_type": "code",
   "execution_count": null,
   "id": "d32a120d-8777-42bd-af3a-f5713bb892b3",
   "metadata": {},
   "outputs": [],
   "source": [
    "from sklearn.model_selection import GridSearchCV\n",
    "\n",
    "# Inspect the parameters of all of the pipe's components to find the one you want to Grid Search\n",
    "print(pipe.get_params())\n",
    "\n",
    "# Instantiate Grid Search\n",
    "grid_search = GridSearchCV(\n",
    "    pipe, \n",
    "    param_grid={\n",
    "        # Access any component of the Pipeline, as far back as you want\n",
    "        'columntransformer__pipeline__simpleimputer__strategy': ['mean', 'median'],\n",
    "        'ridge__alpha': [0.1, 0.5, 1, 5, 10]\n",
    "    },\n",
    "    cv=5,\n",
    "    scoring=\"r2\")\n",
    "\n",
    "grid_search.fit(X_top_train, np.ravel(y_top_train.to_numpy()))\n",
    "\n",
    "grid_search.best_params_\n",
    "\n",
    "pipe_tuned = grid_search.best_estimator_"
   ]
  },
  {
   "cell_type": "markdown",
   "id": "91742590-bd0c-4dcb-9ef0-f4a02282740d",
   "metadata": {
    "tags": []
   },
   "source": [
    "### 3. Evaluate (Cross validate)"
   ]
  },
  {
   "cell_type": "code",
   "execution_count": null,
   "id": "daec8362-1729-42f7-801e-e293074605f5",
   "metadata": {},
   "outputs": [],
   "source": [
    "from sklearn.model_selection import cross_val_score\n",
    "\n",
    "# Evaluate the model with testing data (~30%)\n",
    "print(pipe.score(X_test,y_test))\n",
    "\n",
    "# Cross-validate Pipeline\n",
    "print(cross_val_score(pipe, X_top_train, y_train, cv=5, scoring='r2').mean())"
   ]
  },
  {
   "cell_type": "markdown",
   "id": "d1d43987-371e-4a96-8b0f-e16990e653bd",
   "metadata": {
    "jp-MarkdownHeadingCollapsed": true,
    "tags": []
   },
   "source": [
    "## AutoML with TPOT\n",
    "TPOT - The Tree-based Pipeline Optimization Tool (TPOT) is an automated Machine Learning tool that optimizes Machine Learning Pipelines"
   ]
  },
  {
   "cell_type": "code",
   "execution_count": null,
   "id": "1d7cc193-80e3-4bea-afe4-e8d00b8eee7f",
   "metadata": {},
   "outputs": [],
   "source": [
    "import os\n",
    "from tpot import TPOTRegressor"
   ]
  },
  {
   "cell_type": "code",
   "execution_count": null,
   "id": "fbd84c9b-1e61-421d-8a5c-112b53f6afc2",
   "metadata": {},
   "outputs": [],
   "source": [
    "## Preprocess\n",
    "X_train_preproc = preproc.fit_transform(X_top_train)\n",
    "X_test_preproc = preproc.transform(X_top_test)\n",
    "\n",
    "# Instantiate TPOTClassifier\n",
    "tpot = TPOTRegressor(generations=4, population_size=20, verbosity=2, scoring='r2', n_jobs=-1, cv=2)\n",
    "\n",
    "# Process autoML with TPOT\n",
    "tpot.fit(X_train_preproc, y_top_train)\n",
    "\n",
    "# Print score\n",
    "print(tpot.score(X_test_preproc, y_top_test))\n",
    "\n",
    "# Export TPOT Pipeline to a Python file\n",
    "#tpot.export(os.path.join(os.getcwd(),'tpot_iris_pipeline.py'))\n",
    "#! cat 'tpot_iris_pipeline.py'\n",
    "\n",
    "# Cross-validate Pipeline --> check if this works\n",
    "print(cross_val_score(tpot, X_train_preproc, y_top_train, cv=5, scoring='r2').mean())"
   ]
  },
  {
   "cell_type": "code",
   "execution_count": null,
   "id": "3ecb71fa-94ad-4cfc-9031-28b23bd82b1a",
   "metadata": {},
   "outputs": [],
   "source": []
  }
 ],
 "metadata": {
  "kernelspec": {
   "display_name": "Python 3 (ipykernel)",
   "language": "python",
   "name": "python3"
  },
  "language_info": {
   "codemirror_mode": {
    "name": "ipython",
    "version": 3
   },
   "file_extension": ".py",
   "mimetype": "text/x-python",
   "name": "python",
   "nbconvert_exporter": "python",
   "pygments_lexer": "ipython3",
   "version": "3.8.12"
  },
  "vscode": {
   "interpreter": {
    "hash": "7bd84cb4b67aeb00d1a4a9a74633cec381deeba046b84a2bf568ed53369761ef"
   }
  }
 },
 "nbformat": 4,
 "nbformat_minor": 5
}
