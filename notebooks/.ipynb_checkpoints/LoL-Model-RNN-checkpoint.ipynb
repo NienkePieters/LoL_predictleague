{
 "cells": [
  {
   "cell_type": "markdown",
   "id": "cca019b0-59bd-4ac0-b611-27e190e1c3fc",
   "metadata": {
    "tags": []
   },
   "source": [
    "# RNN model for LoL headhunting\n",
    "Goal: the model predicts if a player will be promoted to play in the major league upcoming 10 years, based on their playing style in the first year they start playing in the upper leagues ."
   ]
  },
  {
   "cell_type": "markdown",
   "id": "51a4aa4e-8442-41fe-a939-e1275e28cfa3",
   "metadata": {
    "heading_collapsed": true,
    "tags": []
   },
   "source": [
    "## Import packages"
   ]
  },
  {
   "cell_type": "code",
   "execution_count": 1,
   "id": "edc17171-ca08-4131-87f0-8937a66da217",
   "metadata": {
    "hidden": true
   },
   "outputs": [],
   "source": [
    "#import packages\n",
    "import pandas as pd\n",
    "import numpy as np\n",
    "from datetime import date\n",
    "from sklearn import set_config;\n",
    "set_config(display='diagram')\n",
    "from sklearn.model_selection import train_test_split\n",
    "from sklearn.pipeline import make_pipeline, make_union\n",
    "from sklearn.compose import make_column_transformer, make_column_selector\n",
    "from sklearn.impute import SimpleImputer\n",
    "from sklearn.preprocessing import OneHotEncoder, StandardScaler\n",
    "from tensorflow.keras.preprocessing.sequence import pad_sequences\n",
    "from collections import Counter\n",
    "from imblearn.over_sampling import RandomOverSampler\n",
    "import seaborn as sns\n",
    "import matplotlib.pyplot as plt "
   ]
  },
  {
   "cell_type": "markdown",
   "id": "dbedee79-abc4-415b-9f30-3f0bb7396c57",
   "metadata": {
    "heading_collapsed": true,
    "tags": []
   },
   "source": [
    "## Import data"
   ]
  },
  {
   "cell_type": "code",
   "execution_count": 2,
   "id": "2c4140e0-f2d4-4f86-8ccd-d454828cc86c",
   "metadata": {
    "hidden": true
   },
   "outputs": [
    {
     "data": {
      "text/html": [
       "<div>\n",
       "<style scoped>\n",
       "    .dataframe tbody tr th:only-of-type {\n",
       "        vertical-align: middle;\n",
       "    }\n",
       "\n",
       "    .dataframe tbody tr th {\n",
       "        vertical-align: top;\n",
       "    }\n",
       "\n",
       "    .dataframe thead th {\n",
       "        text-align: right;\n",
       "    }\n",
       "</style>\n",
       "<table border=\"1\" class=\"dataframe\">\n",
       "  <thead>\n",
       "    <tr style=\"text-align: right;\">\n",
       "      <th></th>\n",
       "      <th>Unnamed: 0</th>\n",
       "      <th>Unnamed: 0.1</th>\n",
       "      <th>league</th>\n",
       "      <th>year</th>\n",
       "      <th>position</th>\n",
       "      <th>playername</th>\n",
       "      <th>teamname</th>\n",
       "      <th>gamelength</th>\n",
       "      <th>result</th>\n",
       "      <th>kills</th>\n",
       "      <th>...</th>\n",
       "      <th>goldat15</th>\n",
       "      <th>xpat15</th>\n",
       "      <th>csat15</th>\n",
       "      <th>golddiffat15</th>\n",
       "      <th>xpdiffat15</th>\n",
       "      <th>csdiffat15</th>\n",
       "      <th>killsat15</th>\n",
       "      <th>assistsat15</th>\n",
       "      <th>deathsat15</th>\n",
       "      <th>target</th>\n",
       "    </tr>\n",
       "  </thead>\n",
       "  <tbody>\n",
       "    <tr>\n",
       "      <th>0</th>\n",
       "      <td>506</td>\n",
       "      <td>506</td>\n",
       "      <td>NA CS</td>\n",
       "      <td>2014</td>\n",
       "      <td>top</td>\n",
       "      <td>Yazuki</td>\n",
       "      <td>Cloud9 Tempest</td>\n",
       "      <td>2513</td>\n",
       "      <td>0</td>\n",
       "      <td>2</td>\n",
       "      <td>...</td>\n",
       "      <td>4895.0</td>\n",
       "      <td>7512.0</td>\n",
       "      <td>128.0</td>\n",
       "      <td>860.0</td>\n",
       "      <td>1043.0</td>\n",
       "      <td>29.0</td>\n",
       "      <td>0.0</td>\n",
       "      <td>1.0</td>\n",
       "      <td>0.0</td>\n",
       "      <td>1</td>\n",
       "    </tr>\n",
       "    <tr>\n",
       "      <th>1</th>\n",
       "      <td>507</td>\n",
       "      <td>507</td>\n",
       "      <td>NA CS</td>\n",
       "      <td>2014</td>\n",
       "      <td>jng</td>\n",
       "      <td>Kez</td>\n",
       "      <td>Cloud9 Tempest</td>\n",
       "      <td>2513</td>\n",
       "      <td>0</td>\n",
       "      <td>5</td>\n",
       "      <td>...</td>\n",
       "      <td>3680.0</td>\n",
       "      <td>5423.0</td>\n",
       "      <td>65.0</td>\n",
       "      <td>-243.0</td>\n",
       "      <td>-610.0</td>\n",
       "      <td>-8.0</td>\n",
       "      <td>0.0</td>\n",
       "      <td>1.0</td>\n",
       "      <td>0.0</td>\n",
       "      <td>1</td>\n",
       "    </tr>\n",
       "    <tr>\n",
       "      <th>2</th>\n",
       "      <td>508</td>\n",
       "      <td>508</td>\n",
       "      <td>NA CS</td>\n",
       "      <td>2014</td>\n",
       "      <td>mid</td>\n",
       "      <td>Bischu</td>\n",
       "      <td>Cloud9 Tempest</td>\n",
       "      <td>2513</td>\n",
       "      <td>0</td>\n",
       "      <td>1</td>\n",
       "      <td>...</td>\n",
       "      <td>4411.0</td>\n",
       "      <td>6694.0</td>\n",
       "      <td>102.0</td>\n",
       "      <td>124.0</td>\n",
       "      <td>79.0</td>\n",
       "      <td>-14.0</td>\n",
       "      <td>1.0</td>\n",
       "      <td>0.0</td>\n",
       "      <td>0.0</td>\n",
       "      <td>1</td>\n",
       "    </tr>\n",
       "    <tr>\n",
       "      <th>3</th>\n",
       "      <td>509</td>\n",
       "      <td>509</td>\n",
       "      <td>NA CS</td>\n",
       "      <td>2014</td>\n",
       "      <td>bot</td>\n",
       "      <td>Altec</td>\n",
       "      <td>Cloud9 Tempest</td>\n",
       "      <td>2513</td>\n",
       "      <td>0</td>\n",
       "      <td>1</td>\n",
       "      <td>...</td>\n",
       "      <td>4743.0</td>\n",
       "      <td>4312.0</td>\n",
       "      <td>125.0</td>\n",
       "      <td>880.0</td>\n",
       "      <td>131.0</td>\n",
       "      <td>34.0</td>\n",
       "      <td>0.0</td>\n",
       "      <td>1.0</td>\n",
       "      <td>0.0</td>\n",
       "      <td>1</td>\n",
       "    </tr>\n",
       "    <tr>\n",
       "      <th>4</th>\n",
       "      <td>510</td>\n",
       "      <td>510</td>\n",
       "      <td>NA CS</td>\n",
       "      <td>2014</td>\n",
       "      <td>sup</td>\n",
       "      <td>Gleeb</td>\n",
       "      <td>Cloud9 Tempest</td>\n",
       "      <td>2513</td>\n",
       "      <td>0</td>\n",
       "      <td>1</td>\n",
       "      <td>...</td>\n",
       "      <td>3013.0</td>\n",
       "      <td>4106.0</td>\n",
       "      <td>1.0</td>\n",
       "      <td>370.0</td>\n",
       "      <td>638.0</td>\n",
       "      <td>0.0</td>\n",
       "      <td>1.0</td>\n",
       "      <td>0.0</td>\n",
       "      <td>0.0</td>\n",
       "      <td>1</td>\n",
       "    </tr>\n",
       "  </tbody>\n",
       "</table>\n",
       "<p>5 rows × 52 columns</p>\n",
       "</div>"
      ],
      "text/plain": [
       "   Unnamed: 0  Unnamed: 0.1 league  year position playername        teamname  \\\n",
       "0         506           506  NA CS  2014      top     Yazuki  Cloud9 Tempest   \n",
       "1         507           507  NA CS  2014      jng        Kez  Cloud9 Tempest   \n",
       "2         508           508  NA CS  2014      mid     Bischu  Cloud9 Tempest   \n",
       "3         509           509  NA CS  2014      bot      Altec  Cloud9 Tempest   \n",
       "4         510           510  NA CS  2014      sup      Gleeb  Cloud9 Tempest   \n",
       "\n",
       "   gamelength  result  kills  ...  goldat15  xpat15  csat15  golddiffat15  \\\n",
       "0        2513       0      2  ...    4895.0  7512.0   128.0         860.0   \n",
       "1        2513       0      5  ...    3680.0  5423.0    65.0        -243.0   \n",
       "2        2513       0      1  ...    4411.0  6694.0   102.0         124.0   \n",
       "3        2513       0      1  ...    4743.0  4312.0   125.0         880.0   \n",
       "4        2513       0      1  ...    3013.0  4106.0     1.0         370.0   \n",
       "\n",
       "   xpdiffat15  csdiffat15  killsat15  assistsat15  deathsat15  target  \n",
       "0      1043.0        29.0        0.0          1.0         0.0       1  \n",
       "1      -610.0        -8.0        0.0          1.0         0.0       1  \n",
       "2        79.0       -14.0        1.0          0.0         0.0       1  \n",
       "3       131.0        34.0        0.0          1.0         0.0       1  \n",
       "4       638.0         0.0        1.0          0.0         0.0       1  \n",
       "\n",
       "[5 rows x 52 columns]"
      ]
     },
     "execution_count": 2,
     "metadata": {},
     "output_type": "execute_result"
    }
   ],
   "source": [
    "df = pd.read_csv(\"~/code/akahrs/LoL-Final-Project/predictleague/predictleague/data/df_cleaned_final3.csv\")\n",
    "df.head()"
   ]
  },
  {
   "cell_type": "markdown",
   "id": "40e5e11b-8b77-4337-bc8f-75214f045a3b",
   "metadata": {
    "heading_collapsed": true,
    "hidden": true,
    "tags": []
   },
   "source": [
    "### Preprocessing duplicates, columns, nan target"
   ]
  },
  {
   "cell_type": "code",
   "execution_count": 3,
   "id": "849dfa0b-4a2e-426f-b317-6a8359645abc",
   "metadata": {
    "hidden": true
   },
   "outputs": [],
   "source": [
    "# drop rows with X as target\n",
    "df = df.loc[df['target'] != 'x', :]\n",
    "\n",
    "# drop duplicates\n",
    "df = df.drop_duplicates()\n",
    "\n",
    "# drop not needed columns\n",
    "df = df.drop(columns=['goldat10','xpat10', 'csat10', 'golddiffat10', 'xpdiffat10','csdiffat10','killsat10','assistsat10','deathsat10','goldat15','xpat15','csat15','golddiffat15','xpdiffat15','csdiffat15','killsat15','assistsat15','deathsat15','doublekills', 'triplekills', 'quadrakills', 'pentakills', 'firstbloodkill', 'firstbloodassist', 'firstbloodvictim', 'controlwardsbought', 'earnedgoldshare'])\n",
    "\n",
    "#create kills_assists_deaths metric\n",
    "df['deaths2'] = df['deaths'].map(lambda x: 1 if x == 0 else x)\n",
    "df['kills_assists_deaths_metric']=(df['kills']+df['assists'])/df['deaths2']\n",
    "\n",
    "df = df.drop(columns=['kills','deaths','assists','Unnamed: 0'])\n",
    "\n",
    "# drop rows where target is nan\n",
    "df = df.dropna(subset=[\"target\"])\n",
    "\n",
    "#drop rows with negative values for earned gpm\n",
    "df = df.drop(df.index[df['earned gpm'] < 0])\n",
    "\n",
    "#drop rows with dpm values above 3000\n",
    "df = df.drop(df.index[df['dpm'] > 3000])\n",
    "\n",
    "#drop rows where year is in the future\n",
    "df = df.drop(df.index[df['year'] > date.today().year])\n"
   ]
  },
  {
   "cell_type": "code",
   "execution_count": 4,
   "id": "72089118-cb1b-46c6-a23e-d8dfa94a9533",
   "metadata": {
    "hidden": true,
    "tags": []
   },
   "outputs": [
    {
     "name": "stderr",
     "output_type": "stream",
     "text": [
      "/var/folders/d9/88yhzft11312hl2s94b0tlgr0000gn/T/ipykernel_48122/2209537696.py:7: UserWarning: Boolean Series key will be reindexed to match DataFrame index.\n",
      "  if len(df.loc[df['playername']==person,['league']][df['league'].isin(bestleagues)]) > 0:\n"
     ]
    }
   ],
   "source": [
    "#drop all games of people that did not play at least 1 game in the best leagues\n",
    "bestleagues = [\"EU LCS\", \"NA LCS\", \"LMS\", \"LEC\", \"LCS\", \"LCK\", \"LPL\", \"PCS\", \"NA CS\", \"EU CS\", \"KeSPA\", \"LSPL\", \"LCK CL\", \"DC\", \"NASG\", \"Proving Grounds Circuit\", \"LVP DDH\", \"LFL\", \"LDL\", \"GPL\", \"EM\", \"LCSA\"]\n",
    "\n",
    "keep_list = []\n",
    "for person in df['playername'].unique():\n",
    "    #put person on keep_list if at least one of his matches was in the bestleagues \n",
    "    if len(df.loc[df['playername']==person,['league']][df['league'].isin(bestleagues)]) > 0:\n",
    "        keep_list.append(person)\n",
    "        \n",
    "df = df[df.playername.isin(keep_list) == True]"
   ]
  },
  {
   "cell_type": "code",
   "execution_count": 5,
   "id": "e0fd3b8a-f615-40d6-80c5-041ffb03ff42",
   "metadata": {
    "hidden": true
   },
   "outputs": [],
   "source": [
    "#save df in CSV, such that it can be checked\n",
    "df.to_csv(\"~/code/akahrs/LoL-Final-Project/predict_league/df_onlybestleagues2.csv\")"
   ]
  },
  {
   "cell_type": "markdown",
   "id": "c25d0537-4248-491f-b7cd-6bb1afc2423d",
   "metadata": {
    "heading_collapsed": true,
    "hidden": true,
    "tags": []
   },
   "source": [
    "### Explore the data"
   ]
  },
  {
   "cell_type": "code",
   "execution_count": 6,
   "id": "09ddeefd-cdef-4508-b7ce-dc135f594b11",
   "metadata": {
    "hidden": true
   },
   "outputs": [
    {
     "data": {
      "text/html": [
       "<div>\n",
       "<style scoped>\n",
       "    .dataframe tbody tr th:only-of-type {\n",
       "        vertical-align: middle;\n",
       "    }\n",
       "\n",
       "    .dataframe tbody tr th {\n",
       "        vertical-align: top;\n",
       "    }\n",
       "\n",
       "    .dataframe thead th {\n",
       "        text-align: right;\n",
       "    }\n",
       "</style>\n",
       "<table border=\"1\" class=\"dataframe\">\n",
       "  <thead>\n",
       "    <tr style=\"text-align: right;\">\n",
       "      <th></th>\n",
       "      <th>Unnamed: 0.1</th>\n",
       "      <th>league</th>\n",
       "      <th>year</th>\n",
       "      <th>position</th>\n",
       "      <th>playername</th>\n",
       "      <th>teamname</th>\n",
       "      <th>gamelength</th>\n",
       "      <th>result</th>\n",
       "      <th>damagetochampions</th>\n",
       "      <th>dpm</th>\n",
       "      <th>...</th>\n",
       "      <th>wpm</th>\n",
       "      <th>wcpm</th>\n",
       "      <th>vspm</th>\n",
       "      <th>earned gpm</th>\n",
       "      <th>cspm</th>\n",
       "      <th>monsterkillsownjungle</th>\n",
       "      <th>monsterkillsenemyjungle</th>\n",
       "      <th>target</th>\n",
       "      <th>deaths2</th>\n",
       "      <th>kills_assists_deaths_metric</th>\n",
       "    </tr>\n",
       "  </thead>\n",
       "  <tbody>\n",
       "    <tr>\n",
       "      <th>0</th>\n",
       "      <td>506</td>\n",
       "      <td>NA CS</td>\n",
       "      <td>2014</td>\n",
       "      <td>top</td>\n",
       "      <td>Yazuki</td>\n",
       "      <td>Cloud9 Tempest</td>\n",
       "      <td>2513</td>\n",
       "      <td>0</td>\n",
       "      <td>17745.0</td>\n",
       "      <td>423.6769</td>\n",
       "      <td>...</td>\n",
       "      <td>0.3581</td>\n",
       "      <td>0.0000</td>\n",
       "      <td>0.0</td>\n",
       "      <td>194.9940</td>\n",
       "      <td>7.5686</td>\n",
       "      <td>21.0</td>\n",
       "      <td>9.0</td>\n",
       "      <td>1</td>\n",
       "      <td>2</td>\n",
       "      <td>3.50</td>\n",
       "    </tr>\n",
       "    <tr>\n",
       "      <th>1</th>\n",
       "      <td>507</td>\n",
       "      <td>NA CS</td>\n",
       "      <td>2014</td>\n",
       "      <td>jng</td>\n",
       "      <td>Kez</td>\n",
       "      <td>Cloud9 Tempest</td>\n",
       "      <td>2513</td>\n",
       "      <td>0</td>\n",
       "      <td>9238.0</td>\n",
       "      <td>220.5651</td>\n",
       "      <td>...</td>\n",
       "      <td>0.5014</td>\n",
       "      <td>0.1910</td>\n",
       "      <td>0.0</td>\n",
       "      <td>148.0780</td>\n",
       "      <td>3.3187</td>\n",
       "      <td>93.0</td>\n",
       "      <td>7.0</td>\n",
       "      <td>1</td>\n",
       "      <td>3</td>\n",
       "      <td>2.00</td>\n",
       "    </tr>\n",
       "    <tr>\n",
       "      <th>2</th>\n",
       "      <td>508</td>\n",
       "      <td>NA CS</td>\n",
       "      <td>2014</td>\n",
       "      <td>mid</td>\n",
       "      <td>Bischu</td>\n",
       "      <td>Cloud9 Tempest</td>\n",
       "      <td>2513</td>\n",
       "      <td>0</td>\n",
       "      <td>17560.0</td>\n",
       "      <td>419.2598</td>\n",
       "      <td>...</td>\n",
       "      <td>0.4298</td>\n",
       "      <td>0.0716</td>\n",
       "      <td>0.0</td>\n",
       "      <td>162.0454</td>\n",
       "      <td>6.2555</td>\n",
       "      <td>34.0</td>\n",
       "      <td>5.0</td>\n",
       "      <td>1</td>\n",
       "      <td>5</td>\n",
       "      <td>1.40</td>\n",
       "    </tr>\n",
       "    <tr>\n",
       "      <th>3</th>\n",
       "      <td>509</td>\n",
       "      <td>NA CS</td>\n",
       "      <td>2014</td>\n",
       "      <td>bot</td>\n",
       "      <td>Altec</td>\n",
       "      <td>Cloud9 Tempest</td>\n",
       "      <td>2513</td>\n",
       "      <td>0</td>\n",
       "      <td>12578.0</td>\n",
       "      <td>300.3104</td>\n",
       "      <td>...</td>\n",
       "      <td>0.1910</td>\n",
       "      <td>0.1910</td>\n",
       "      <td>0.0</td>\n",
       "      <td>187.3776</td>\n",
       "      <td>6.9240</td>\n",
       "      <td>17.0</td>\n",
       "      <td>1.0</td>\n",
       "      <td>1</td>\n",
       "      <td>4</td>\n",
       "      <td>1.75</td>\n",
       "    </tr>\n",
       "    <tr>\n",
       "      <th>4</th>\n",
       "      <td>510</td>\n",
       "      <td>NA CS</td>\n",
       "      <td>2014</td>\n",
       "      <td>sup</td>\n",
       "      <td>Gleeb</td>\n",
       "      <td>Cloud9 Tempest</td>\n",
       "      <td>2513</td>\n",
       "      <td>0</td>\n",
       "      <td>7737.0</td>\n",
       "      <td>184.7274</td>\n",
       "      <td>...</td>\n",
       "      <td>1.2654</td>\n",
       "      <td>0.1671</td>\n",
       "      <td>0.0</td>\n",
       "      <td>89.7493</td>\n",
       "      <td>0.2149</td>\n",
       "      <td>0.0</td>\n",
       "      <td>0.0</td>\n",
       "      <td>1</td>\n",
       "      <td>2</td>\n",
       "      <td>4.00</td>\n",
       "    </tr>\n",
       "  </tbody>\n",
       "</table>\n",
       "<p>5 rows × 23 columns</p>\n",
       "</div>"
      ],
      "text/plain": [
       "   Unnamed: 0.1 league  year position playername        teamname  gamelength  \\\n",
       "0           506  NA CS  2014      top     Yazuki  Cloud9 Tempest        2513   \n",
       "1           507  NA CS  2014      jng        Kez  Cloud9 Tempest        2513   \n",
       "2           508  NA CS  2014      mid     Bischu  Cloud9 Tempest        2513   \n",
       "3           509  NA CS  2014      bot      Altec  Cloud9 Tempest        2513   \n",
       "4           510  NA CS  2014      sup      Gleeb  Cloud9 Tempest        2513   \n",
       "\n",
       "   result  damagetochampions       dpm  ...     wpm    wcpm  vspm  earned gpm  \\\n",
       "0       0            17745.0  423.6769  ...  0.3581  0.0000   0.0    194.9940   \n",
       "1       0             9238.0  220.5651  ...  0.5014  0.1910   0.0    148.0780   \n",
       "2       0            17560.0  419.2598  ...  0.4298  0.0716   0.0    162.0454   \n",
       "3       0            12578.0  300.3104  ...  0.1910  0.1910   0.0    187.3776   \n",
       "4       0             7737.0  184.7274  ...  1.2654  0.1671   0.0     89.7493   \n",
       "\n",
       "     cspm  monsterkillsownjungle  monsterkillsenemyjungle  target  deaths2  \\\n",
       "0  7.5686                   21.0                      9.0       1        2   \n",
       "1  3.3187                   93.0                      7.0       1        3   \n",
       "2  6.2555                   34.0                      5.0       1        5   \n",
       "3  6.9240                   17.0                      1.0       1        4   \n",
       "4  0.2149                    0.0                      0.0       1        2   \n",
       "\n",
       "   kills_assists_deaths_metric  \n",
       "0                         3.50  \n",
       "1                         2.00  \n",
       "2                         1.40  \n",
       "3                         1.75  \n",
       "4                         4.00  \n",
       "\n",
       "[5 rows x 23 columns]"
      ]
     },
     "execution_count": 6,
     "metadata": {},
     "output_type": "execute_result"
    }
   ],
   "source": [
    "df.head(5)"
   ]
  },
  {
   "cell_type": "code",
   "execution_count": 7,
   "id": "03af2b93-16c4-4a61-8bff-22a926b0934c",
   "metadata": {
    "hidden": true
   },
   "outputs": [
    {
     "data": {
      "text/html": [
       "<div>\n",
       "<style scoped>\n",
       "    .dataframe tbody tr th:only-of-type {\n",
       "        vertical-align: middle;\n",
       "    }\n",
       "\n",
       "    .dataframe tbody tr th {\n",
       "        vertical-align: top;\n",
       "    }\n",
       "\n",
       "    .dataframe thead th {\n",
       "        text-align: right;\n",
       "    }\n",
       "</style>\n",
       "<table border=\"1\" class=\"dataframe\">\n",
       "  <thead>\n",
       "    <tr style=\"text-align: right;\">\n",
       "      <th></th>\n",
       "      <th>Unnamed: 0.1</th>\n",
       "      <th>year</th>\n",
       "      <th>gamelength</th>\n",
       "      <th>result</th>\n",
       "      <th>damagetochampions</th>\n",
       "      <th>dpm</th>\n",
       "      <th>damageshare</th>\n",
       "      <th>damagetakenperminute</th>\n",
       "      <th>damagemitigatedperminute</th>\n",
       "      <th>wpm</th>\n",
       "      <th>wcpm</th>\n",
       "      <th>vspm</th>\n",
       "      <th>earned gpm</th>\n",
       "      <th>cspm</th>\n",
       "      <th>monsterkillsownjungle</th>\n",
       "      <th>monsterkillsenemyjungle</th>\n",
       "      <th>target</th>\n",
       "      <th>deaths2</th>\n",
       "      <th>kills_assists_deaths_metric</th>\n",
       "    </tr>\n",
       "  </thead>\n",
       "  <tbody>\n",
       "    <tr>\n",
       "      <th>count</th>\n",
       "      <td>189357.000000</td>\n",
       "      <td>189357.000000</td>\n",
       "      <td>189357.000000</td>\n",
       "      <td>189357.000000</td>\n",
       "      <td>189357.000000</td>\n",
       "      <td>189357.000000</td>\n",
       "      <td>189357.000000</td>\n",
       "      <td>189357.000000</td>\n",
       "      <td>137906.000000</td>\n",
       "      <td>189357.000000</td>\n",
       "      <td>189357.000000</td>\n",
       "      <td>131181.000000</td>\n",
       "      <td>189357.000000</td>\n",
       "      <td>189357.000000</td>\n",
       "      <td>152670.000000</td>\n",
       "      <td>152670.000000</td>\n",
       "      <td>189357.000000</td>\n",
       "      <td>189357.000000</td>\n",
       "      <td>189357.000000</td>\n",
       "    </tr>\n",
       "    <tr>\n",
       "      <th>mean</th>\n",
       "      <td>469378.461441</td>\n",
       "      <td>2019.811789</td>\n",
       "      <td>1925.282958</td>\n",
       "      <td>0.494632</td>\n",
       "      <td>12870.268762</td>\n",
       "      <td>396.067957</td>\n",
       "      <td>0.199617</td>\n",
       "      <td>572.086037</td>\n",
       "      <td>462.737699</td>\n",
       "      <td>0.627521</td>\n",
       "      <td>0.264037</td>\n",
       "      <td>1.276689</td>\n",
       "      <td>227.195001</td>\n",
       "      <td>6.334379</td>\n",
       "      <td>25.272293</td>\n",
       "      <td>4.502044</td>\n",
       "      <td>0.393674</td>\n",
       "      <td>2.943810</td>\n",
       "      <td>5.014528</td>\n",
       "    </tr>\n",
       "    <tr>\n",
       "      <th>std</th>\n",
       "      <td>249920.597971</td>\n",
       "      <td>1.952743</td>\n",
       "      <td>368.999688</td>\n",
       "      <td>0.499973</td>\n",
       "      <td>8161.473970</td>\n",
       "      <td>219.209751</td>\n",
       "      <td>0.094731</td>\n",
       "      <td>232.514819</td>\n",
       "      <td>322.787289</td>\n",
       "      <td>0.448590</td>\n",
       "      <td>0.160898</td>\n",
       "      <td>0.756950</td>\n",
       "      <td>82.795912</td>\n",
       "      <td>3.056220</td>\n",
       "      <td>35.254750</td>\n",
       "      <td>8.510938</td>\n",
       "      <td>0.488565</td>\n",
       "      <td>1.811302</td>\n",
       "      <td>4.815033</td>\n",
       "    </tr>\n",
       "    <tr>\n",
       "      <th>min</th>\n",
       "      <td>506.000000</td>\n",
       "      <td>2014.000000</td>\n",
       "      <td>938.000000</td>\n",
       "      <td>0.000000</td>\n",
       "      <td>0.000000</td>\n",
       "      <td>0.000000</td>\n",
       "      <td>0.000000</td>\n",
       "      <td>0.000000</td>\n",
       "      <td>0.000000</td>\n",
       "      <td>0.000000</td>\n",
       "      <td>0.000000</td>\n",
       "      <td>0.000000</td>\n",
       "      <td>0.051500</td>\n",
       "      <td>0.000000</td>\n",
       "      <td>0.000000</td>\n",
       "      <td>0.000000</td>\n",
       "      <td>0.000000</td>\n",
       "      <td>1.000000</td>\n",
       "      <td>0.000000</td>\n",
       "    </tr>\n",
       "    <tr>\n",
       "      <th>25%</th>\n",
       "      <td>252760.000000</td>\n",
       "      <td>2019.000000</td>\n",
       "      <td>1663.000000</td>\n",
       "      <td>0.000000</td>\n",
       "      <td>6760.000000</td>\n",
       "      <td>221.214800</td>\n",
       "      <td>0.121579</td>\n",
       "      <td>393.068700</td>\n",
       "      <td>236.915275</td>\n",
       "      <td>0.342300</td>\n",
       "      <td>0.144700</td>\n",
       "      <td>0.835700</td>\n",
       "      <td>167.864800</td>\n",
       "      <td>4.558800</td>\n",
       "      <td>0.000000</td>\n",
       "      <td>0.000000</td>\n",
       "      <td>0.000000</td>\n",
       "      <td>1.000000</td>\n",
       "      <td>1.333333</td>\n",
       "    </tr>\n",
       "    <tr>\n",
       "      <th>50%</th>\n",
       "      <td>484595.000000</td>\n",
       "      <td>2020.000000</td>\n",
       "      <td>1880.000000</td>\n",
       "      <td>0.000000</td>\n",
       "      <td>11294.000000</td>\n",
       "      <td>367.264700</td>\n",
       "      <td>0.197446</td>\n",
       "      <td>530.900600</td>\n",
       "      <td>401.664550</td>\n",
       "      <td>0.449000</td>\n",
       "      <td>0.238000</td>\n",
       "      <td>1.137000</td>\n",
       "      <td>228.374600</td>\n",
       "      <td>7.205500</td>\n",
       "      <td>9.000000</td>\n",
       "      <td>0.000000</td>\n",
       "      <td>0.000000</td>\n",
       "      <td>3.000000</td>\n",
       "      <td>3.000000</td>\n",
       "    </tr>\n",
       "    <tr>\n",
       "      <th>75%</th>\n",
       "      <td>691368.000000</td>\n",
       "      <td>2021.000000</td>\n",
       "      <td>2131.000000</td>\n",
       "      <td>1.000000</td>\n",
       "      <td>17039.000000</td>\n",
       "      <td>529.801700</td>\n",
       "      <td>0.266258</td>\n",
       "      <td>732.000000</td>\n",
       "      <td>635.962775</td>\n",
       "      <td>0.740200</td>\n",
       "      <td>0.356600</td>\n",
       "      <td>1.614500</td>\n",
       "      <td>285.926400</td>\n",
       "      <td>8.662100</td>\n",
       "      <td>28.000000</td>\n",
       "      <td>5.000000</td>\n",
       "      <td>1.000000</td>\n",
       "      <td>4.000000</td>\n",
       "      <td>7.500000</td>\n",
       "    </tr>\n",
       "    <tr>\n",
       "      <th>max</th>\n",
       "      <td>864491.000000</td>\n",
       "      <td>2022.000000</td>\n",
       "      <td>5341.000000</td>\n",
       "      <td>1.000000</td>\n",
       "      <td>150341.000000</td>\n",
       "      <td>2293.531700</td>\n",
       "      <td>0.641525</td>\n",
       "      <td>2026.819200</td>\n",
       "      <td>3442.544700</td>\n",
       "      <td>3.561600</td>\n",
       "      <td>1.601800</td>\n",
       "      <td>6.244800</td>\n",
       "      <td>612.331000</td>\n",
       "      <td>14.760000</td>\n",
       "      <td>210.000000</td>\n",
       "      <td>130.000000</td>\n",
       "      <td>1.000000</td>\n",
       "      <td>15.000000</td>\n",
       "      <td>33.000000</td>\n",
       "    </tr>\n",
       "  </tbody>\n",
       "</table>\n",
       "</div>"
      ],
      "text/plain": [
       "        Unnamed: 0.1           year     gamelength         result  \\\n",
       "count  189357.000000  189357.000000  189357.000000  189357.000000   \n",
       "mean   469378.461441    2019.811789    1925.282958       0.494632   \n",
       "std    249920.597971       1.952743     368.999688       0.499973   \n",
       "min       506.000000    2014.000000     938.000000       0.000000   \n",
       "25%    252760.000000    2019.000000    1663.000000       0.000000   \n",
       "50%    484595.000000    2020.000000    1880.000000       0.000000   \n",
       "75%    691368.000000    2021.000000    2131.000000       1.000000   \n",
       "max    864491.000000    2022.000000    5341.000000       1.000000   \n",
       "\n",
       "       damagetochampions            dpm    damageshare  damagetakenperminute  \\\n",
       "count      189357.000000  189357.000000  189357.000000         189357.000000   \n",
       "mean        12870.268762     396.067957       0.199617            572.086037   \n",
       "std          8161.473970     219.209751       0.094731            232.514819   \n",
       "min             0.000000       0.000000       0.000000              0.000000   \n",
       "25%          6760.000000     221.214800       0.121579            393.068700   \n",
       "50%         11294.000000     367.264700       0.197446            530.900600   \n",
       "75%         17039.000000     529.801700       0.266258            732.000000   \n",
       "max        150341.000000    2293.531700       0.641525           2026.819200   \n",
       "\n",
       "       damagemitigatedperminute            wpm           wcpm           vspm  \\\n",
       "count             137906.000000  189357.000000  189357.000000  131181.000000   \n",
       "mean                 462.737699       0.627521       0.264037       1.276689   \n",
       "std                  322.787289       0.448590       0.160898       0.756950   \n",
       "min                    0.000000       0.000000       0.000000       0.000000   \n",
       "25%                  236.915275       0.342300       0.144700       0.835700   \n",
       "50%                  401.664550       0.449000       0.238000       1.137000   \n",
       "75%                  635.962775       0.740200       0.356600       1.614500   \n",
       "max                 3442.544700       3.561600       1.601800       6.244800   \n",
       "\n",
       "          earned gpm           cspm  monsterkillsownjungle  \\\n",
       "count  189357.000000  189357.000000          152670.000000   \n",
       "mean      227.195001       6.334379              25.272293   \n",
       "std        82.795912       3.056220              35.254750   \n",
       "min         0.051500       0.000000               0.000000   \n",
       "25%       167.864800       4.558800               0.000000   \n",
       "50%       228.374600       7.205500               9.000000   \n",
       "75%       285.926400       8.662100              28.000000   \n",
       "max       612.331000      14.760000             210.000000   \n",
       "\n",
       "       monsterkillsenemyjungle         target        deaths2  \\\n",
       "count            152670.000000  189357.000000  189357.000000   \n",
       "mean                  4.502044       0.393674       2.943810   \n",
       "std                   8.510938       0.488565       1.811302   \n",
       "min                   0.000000       0.000000       1.000000   \n",
       "25%                   0.000000       0.000000       1.000000   \n",
       "50%                   0.000000       0.000000       3.000000   \n",
       "75%                   5.000000       1.000000       4.000000   \n",
       "max                 130.000000       1.000000      15.000000   \n",
       "\n",
       "       kills_assists_deaths_metric  \n",
       "count                189357.000000  \n",
       "mean                      5.014528  \n",
       "std                       4.815033  \n",
       "min                       0.000000  \n",
       "25%                       1.333333  \n",
       "50%                       3.000000  \n",
       "75%                       7.500000  \n",
       "max                      33.000000  "
      ]
     },
     "execution_count": 7,
     "metadata": {},
     "output_type": "execute_result"
    }
   ],
   "source": [
    "df.describe()"
   ]
  },
  {
   "cell_type": "code",
   "execution_count": 38,
   "id": "10f57fd9",
   "metadata": {
    "hidden": true
   },
   "outputs": [
    {
     "name": "stdout",
     "output_type": "stream",
     "text": [
      "total amount of players :\n",
      "3092\n",
      "target % (percentage of people that went to the upper league):\n",
      "24.108990944372575\n"
     ]
    }
   ],
   "source": [
    "#total amount of players\n",
    "print(\"total amount of players :\")\n",
    "print(len(df['playername'].unique()))\n",
    "\n",
    "#which % of people went to the upper league?\n",
    "print(\"target % (percentage of people that went to the upper league):\") \n",
    "print(df['target'].sum()/len(df['playername'].unique()))"
   ]
  },
  {
   "cell_type": "code",
   "execution_count": 9,
   "id": "3c6b7930-2324-4d45-8c15-dd2eb319bbc0",
   "metadata": {
    "hidden": true
   },
   "outputs": [
    {
     "name": "stderr",
     "output_type": "stream",
     "text": [
      "/Users/nienkepieters/.pyenv/versions/3.8.12/envs/lewagon/lib/python3.8/site-packages/seaborn/_decorators.py:36: FutureWarning: Pass the following variable as a keyword arg: x. From version 0.12, the only valid positional argument will be `data`, and passing other arguments without an explicit keyword will result in an error or misinterpretation.\n",
      "  warnings.warn(\n",
      "/Users/nienkepieters/.pyenv/versions/3.8.12/envs/lewagon/lib/python3.8/site-packages/seaborn/_decorators.py:36: FutureWarning: Pass the following variable as a keyword arg: x. From version 0.12, the only valid positional argument will be `data`, and passing other arguments without an explicit keyword will result in an error or misinterpretation.\n",
      "  warnings.warn(\n",
      "/Users/nienkepieters/.pyenv/versions/3.8.12/envs/lewagon/lib/python3.8/site-packages/seaborn/_decorators.py:36: FutureWarning: Pass the following variable as a keyword arg: x. From version 0.12, the only valid positional argument will be `data`, and passing other arguments without an explicit keyword will result in an error or misinterpretation.\n",
      "  warnings.warn(\n",
      "/Users/nienkepieters/.pyenv/versions/3.8.12/envs/lewagon/lib/python3.8/site-packages/seaborn/_decorators.py:36: FutureWarning: Pass the following variable as a keyword arg: x. From version 0.12, the only valid positional argument will be `data`, and passing other arguments without an explicit keyword will result in an error or misinterpretation.\n",
      "  warnings.warn(\n"
     ]
    },
    {
     "data": {
      "image/png": "[encoded data removed]",
      "text/plain": [
       "<Figure size 1440x360 with 4 Axes>"
      ]
     },
     "metadata": {
      "needs_background": "light"
     },
     "output_type": "display_data"
    }
   ],
   "source": [
    "fig = plt.figure(figsize = (20,5))\n",
    "fig.subplots_adjust(hspace=0.5, wspace=0.2)\n",
    "ax = fig.add_subplot(2, 2, 1)\n",
    "sns.boxplot(df['earned gpm'], ax=ax)\n",
    "ax = fig.add_subplot(2, 2, 2)\n",
    "sns.boxplot(df['dpm'], ax=ax)\n",
    "ax = fig.add_subplot(2, 2, 3)\n",
    "sns.boxplot(df['cspm'], ax=ax)\n",
    "ax = fig.add_subplot(2, 2, 4)\n",
    "sns.boxplot(df['kills_assists_deaths_metric'], ax=ax)\n",
    "\n",
    "plt.show()"
   ]
  },
  {
   "cell_type": "code",
   "execution_count": 11,
   "id": "ce84e9c0-1560-42ef-843c-a845a28f0ed3",
   "metadata": {
    "hidden": true,
    "scrolled": true
   },
   "outputs": [
    {
     "data": {
      "text/html": [
       "<div>\n",
       "<style scoped>\n",
       "    .dataframe tbody tr th:only-of-type {\n",
       "        vertical-align: middle;\n",
       "    }\n",
       "\n",
       "    .dataframe tbody tr th {\n",
       "        vertical-align: top;\n",
       "    }\n",
       "\n",
       "    .dataframe thead th {\n",
       "        text-align: right;\n",
       "    }\n",
       "</style>\n",
       "<table border=\"1\" class=\"dataframe\">\n",
       "  <thead>\n",
       "    <tr style=\"text-align: right;\">\n",
       "      <th></th>\n",
       "      <th>year</th>\n",
       "      <th>playername</th>\n",
       "      <th>position</th>\n",
       "      <th>earned gpm</th>\n",
       "      <th>dpm</th>\n",
       "      <th>cspm</th>\n",
       "      <th>kills_assists_deaths_metric</th>\n",
       "      <th>result</th>\n",
       "      <th>target</th>\n",
       "    </tr>\n",
       "  </thead>\n",
       "  <tbody>\n",
       "    <tr>\n",
       "      <th>0</th>\n",
       "      <td>2014</td>\n",
       "      <td>Yazuki</td>\n",
       "      <td>top</td>\n",
       "      <td>194.9940</td>\n",
       "      <td>423.6769</td>\n",
       "      <td>7.5686</td>\n",
       "      <td>3.500000</td>\n",
       "      <td>0</td>\n",
       "      <td>1</td>\n",
       "    </tr>\n",
       "    <tr>\n",
       "      <th>5</th>\n",
       "      <td>2014</td>\n",
       "      <td>Jezie</td>\n",
       "      <td>top</td>\n",
       "      <td>245.9212</td>\n",
       "      <td>290.7123</td>\n",
       "      <td>6.6375</td>\n",
       "      <td>5.333333</td>\n",
       "      <td>1</td>\n",
       "      <td>0</td>\n",
       "    </tr>\n",
       "    <tr>\n",
       "      <th>11</th>\n",
       "      <td>2014</td>\n",
       "      <td>Jezie</td>\n",
       "      <td>top</td>\n",
       "      <td>183.3990</td>\n",
       "      <td>463.0260</td>\n",
       "      <td>5.3413</td>\n",
       "      <td>2.500000</td>\n",
       "      <td>1</td>\n",
       "      <td>0</td>\n",
       "    </tr>\n",
       "    <tr>\n",
       "      <th>17</th>\n",
       "      <td>2014</td>\n",
       "      <td>Yazuki</td>\n",
       "      <td>top</td>\n",
       "      <td>241.1823</td>\n",
       "      <td>687.1499</td>\n",
       "      <td>7.7692</td>\n",
       "      <td>10.000000</td>\n",
       "      <td>0</td>\n",
       "      <td>1</td>\n",
       "    </tr>\n",
       "    <tr>\n",
       "      <th>22</th>\n",
       "      <td>2014</td>\n",
       "      <td>Sphinx</td>\n",
       "      <td>top</td>\n",
       "      <td>186.3969</td>\n",
       "      <td>466.1892</td>\n",
       "      <td>6.9874</td>\n",
       "      <td>1.000000</td>\n",
       "      <td>0</td>\n",
       "      <td>0</td>\n",
       "    </tr>\n",
       "  </tbody>\n",
       "</table>\n",
       "</div>"
      ],
      "text/plain": [
       "    year playername position  earned gpm       dpm    cspm  \\\n",
       "0   2014     Yazuki      top    194.9940  423.6769  7.5686   \n",
       "5   2014      Jezie      top    245.9212  290.7123  6.6375   \n",
       "11  2014      Jezie      top    183.3990  463.0260  5.3413   \n",
       "17  2014     Yazuki      top    241.1823  687.1499  7.7692   \n",
       "22  2014     Sphinx      top    186.3969  466.1892  6.9874   \n",
       "\n",
       "    kills_assists_deaths_metric  result  target  \n",
       "0                      3.500000       0       1  \n",
       "5                      5.333333       1       0  \n",
       "11                     2.500000       1       0  \n",
       "17                    10.000000       0       1  \n",
       "22                     1.000000       0       0  "
      ]
     },
     "execution_count": 11,
     "metadata": {},
     "output_type": "execute_result"
    }
   ],
   "source": [
    "df.head(5)"
   ]
  },
  {
   "cell_type": "markdown",
   "id": "ce4c30f0-cddc-4bd3-b112-fb277d428182",
   "metadata": {
    "heading_collapsed": true,
    "tags": []
   },
   "source": [
    "## Preprocess data"
   ]
  },
  {
   "cell_type": "markdown",
   "id": "b6673cef",
   "metadata": {
    "hidden": true
   },
   "source": [
    "### Functions for preprocessing"
   ]
  },
  {
   "cell_type": "code",
   "execution_count": 37,
   "id": "4a8bedd4-568d-4ed7-a3bc-4af3408d6937",
   "metadata": {
    "hidden": true
   },
   "outputs": [],
   "source": [
    "def create_train_test_tensors(df):\n",
    "    ''' This function creates train and test sets (30% = test set). It contains tensors with the matches of the first year of each player.'''\n",
    "    \n",
    "    # list the first year each player is active in a df\n",
    "    name_year_list = df[['playername','year','target']].groupby(by=\"playername\").min()\n",
    "    name_year_list = name_year_list.reset_index()\n",
    "    \n",
    "    #create tensor with matches for first year of each player\n",
    "    tensor = []\n",
    "    #features = ['earned gpm', 'dpm', 'cspm', 'kills_assists_deaths_metric', 'result','playername','target']\n",
    "    features = ['result','playername','target']\n",
    "    for index, row in name_year_list.iterrows():\n",
    "        tensor.append(df.loc[(df['playername']==row['playername'])&(df['year']==row['year']), features])\n",
    "        \n",
    "    # Create X and y\n",
    "    X = np.array(tensor, dtype=object)\n",
    "    y = name_year_list['target'].astype('int32')\n",
    "    \n",
    "    #split train and test set\n",
    "    X_train, X_test, y_train, y_test = train_test_split(X, y, test_size=0.3)\n",
    "    \n",
    "    return X_train, X_test, y_train, y_test"
   ]
  },
  {
   "cell_type": "code",
   "execution_count": 18,
   "id": "67d8c696-f8c6-45c4-aaed-626c1c4a1f8d",
   "metadata": {
    "hidden": true
   },
   "outputs": [],
   "source": [
    "def preprocess_data(X_train, X_test):\n",
    "    ''' This function scales the data. It has to untensor and then tensor again the data to be able to do this. \n",
    "    Then it will pad the train and test data, such that each tensor has the same length'''\n",
    "    \n",
    "    #untensor train and test data. Create long list of all matches. This has to be done for the scaling.\n",
    "    X_train_untensored = pd.DataFrame()\n",
    "    for player in range(len(X_train)):\n",
    "        X_train_untensored = pd.concat([X_train_untensored, X_train[player]])\n",
    "        \n",
    "    X_test_untensored = pd.DataFrame()\n",
    "    for player in range(len(X_test)):\n",
    "        X_test_untensored = pd.concat([X_test_untensored, X_test[player]])\n",
    "    \n",
    "    #create preprocessing pipeline for Imputing then scaling numerical values: \n",
    "    num_transformer = make_pipeline(SimpleImputer(), StandardScaler())\n",
    "    preprocessing = make_column_transformer(\n",
    "        #(num_transformer, ['earned gpm', 'dpm', 'cspm', 'kills_assists_deaths_metric', 'result']),\n",
    "        (num_transformer, ['result']),\n",
    "        #(cat_transformer, cat_col),\n",
    "        remainder='passthrough')\n",
    "    \n",
    "    # fit & scale train data. Only scale test data.\n",
    "    X_train_transformed = pd.DataFrame(preprocessing.fit_transform(X_train_untensored))\n",
    "    X_test_transformed = pd.DataFrame(preprocessing.transform(X_test_untensored))\n",
    "    \n",
    "    #make tensor again for train and test data\n",
    "    features = [0]\n",
    "\n",
    "    unique_players_train = X_train_transformed[1].unique()\n",
    "    X_train_tensor = []\n",
    "    for name in unique_players_train:\n",
    "        X_train_tensor.append(X_train_transformed.loc[(X_train_transformed[1]==name), features])\n",
    "        \n",
    "    unique_players_test = X_test_transformed[1].unique()\n",
    "    X_test_tensor = []\n",
    "    for name in unique_players_test:\n",
    "        X_test_tensor.append(X_test_transformed.loc[(X_test_transformed[1]==name), features])\n",
    "        \n",
    "    # Padding train and test data\n",
    "    X_train_preprocessed = pad_sequences(np.array(X_train_tensor, dtype=object), dtype='float32', padding = 'post', value=-1000, maxlen=150) # int32 by default\n",
    "    X_test_preprocessed = pad_sequences(np.array(X_test_tensor, dtype=object), dtype='float32', padding = 'post', value=-1000, maxlen=150) # int32 by default\n",
    "    \n",
    "    return X_train_preprocessed, X_test_preprocessed"
   ]
  },
  {
   "cell_type": "code",
   "execution_count": 19,
   "id": "50f47747-66a0-4b57-9b6a-0cdeb54e0028",
   "metadata": {
    "hidden": true
   },
   "outputs": [],
   "source": [
    "def oversample_train_data(X_train_preprocessed, y_train):\n",
    "    ''' This function oversamples train data - can be called if needed'''\n",
    "\n",
    "    # define oversampling strategy\n",
    "    oversample = RandomOverSampler(sampling_strategy=0.3)\n",
    "    \n",
    "    (a,b,c) = X_train_preprocessed.shape\n",
    "\n",
    "    #shape and reshape\n",
    "    X_train_reshape = X_train_preprocessed.reshape(a, b * c)\n",
    "    \n",
    "    # fit and apply the transform\n",
    "    X_train_over, y_train_over = oversample.fit_resample(X_train_reshape, y_train)\n",
    "    (d,e) = X_train_over.shape\n",
    "    \n",
    "    X_train_over = X_train_over.reshape(d, b, c)\n",
    "    \n",
    "    return X_train_over, y_train_over"
   ]
  },
  {
   "cell_type": "markdown",
   "id": "4f2f6881-ba62-4cda-b470-b2e0e71eed89",
   "metadata": {
    "hidden": true,
    "tags": []
   },
   "source": [
    "### Preprocess data\n",
    "Oversampling is not needed, as 25% of the target is a 1 (25% of people went to play in the major league, 75% did not)."
   ]
  },
  {
   "cell_type": "code",
   "execution_count": 20,
   "id": "30a66125-991d-4111-9add-a57c0555f431",
   "metadata": {
    "hidden": true
   },
   "outputs": [
    {
     "name": "stdout",
     "output_type": "stream",
     "text": [
      "Shape of preprocessed X_train and X_test data for all players:\n",
      "(2164, 150, 1) (928, 150, 1)\n"
     ]
    }
   ],
   "source": [
    "#create X and y data\n",
    "X_all_train, X_all_test, y_all_train, y_all_test = create_train_test_tensors(df)\n",
    "\n",
    "#preprocess X_train and X_test\n",
    "X_all_train_preprocessed, X_all_test_preprocessed = preprocess_data(X_all_train, X_all_test)\n",
    "print(f\"Shape of preprocessed X_train and X_test data for all players:\")\n",
    "print(X_all_train_preprocessed.shape, X_all_test_preprocessed.shape)\n",
    "\n",
    "#oversample train data (not needed as about 25% of the target is a hit)\n",
    "#X_all_train_over, y_all_train_over = oversample_train_data(X_all_train_preprocessed, y_all_train)\n",
    "#print(f\"\\n Shape of oversampled X_train and y_train data for all players:\")\n",
    "#print(X_all_train_over.shape, y_all_train_over.shape)"
   ]
  },
  {
   "cell_type": "markdown",
   "id": "d510aed3-4300-4522-93e6-893cba26b951",
   "metadata": {
    "heading_collapsed": true,
    "tags": []
   },
   "source": [
    "## RNN model"
   ]
  },
  {
   "cell_type": "markdown",
   "id": "d0955b77-4e40-4669-ae07-2e40f0081f93",
   "metadata": {
    "heading_collapsed": true,
    "hidden": true,
    "tags": []
   },
   "source": [
    "### Fitting the model"
   ]
  },
  {
   "cell_type": "code",
   "execution_count": 23,
   "id": "e4909bb8-73d8-4d2b-acc2-bda08ede190a",
   "metadata": {
    "hidden": true
   },
   "outputs": [
    {
     "data": {
      "text/plain": [
       "0    1447\n",
       "1     717\n",
       "Name: target, dtype: int64"
      ]
     },
     "execution_count": 23,
     "metadata": {},
     "output_type": "execute_result"
    }
   ],
   "source": [
    "y_all_train.value_counts()"
   ]
  },
  {
   "cell_type": "code",
   "execution_count": 33,
   "id": "9eaf561f-e988-4e2c-8cde-498da6c4a088",
   "metadata": {
    "hidden": true
   },
   "outputs": [
    {
     "data": {
      "text/plain": [
       "0.33133086876155265"
      ]
     },
     "execution_count": 33,
     "metadata": {},
     "output_type": "execute_result"
    }
   ],
   "source": [
    "717/(1447+717)"
   ]
  },
  {
   "cell_type": "code",
   "execution_count": 25,
   "id": "f10afdb3-6093-410d-9874-6c4bc770d23a",
   "metadata": {
    "hidden": true
   },
   "outputs": [
    {
     "data": {
      "text/plain": [
       "0    632\n",
       "1    296\n",
       "Name: target, dtype: int64"
      ]
     },
     "execution_count": 25,
     "metadata": {},
     "output_type": "execute_result"
    }
   ],
   "source": [
    "y_all_test.value_counts()"
   ]
  },
  {
   "cell_type": "code",
   "execution_count": 26,
   "id": "a13059f0-ac27-40bd-905f-5e67de33ace7",
   "metadata": {
    "hidden": true
   },
   "outputs": [
    {
     "data": {
      "text/plain": [
       "0.33512931034482757"
      ]
     },
     "execution_count": 26,
     "metadata": {},
     "output_type": "execute_result"
    }
   ],
   "source": [
    "311/(617+311)"
   ]
  },
  {
   "cell_type": "code",
   "execution_count": 27,
   "id": "adbc199b-ace6-4a34-8d41-695ab0f34405",
   "metadata": {
    "hidden": true,
    "tags": []
   },
   "outputs": [
    {
     "name": "stderr",
     "output_type": "stream",
     "text": [
      "2022-10-15 11:42:41.362114: I tensorflow/core/platform/cpu_feature_guard.cc:151] This TensorFlow binary is optimized with oneAPI Deep Neural Network Library (oneDNN) to use the following CPU instructions in performance-critical operations:  AVX2 FMA\n",
      "To enable them in other operations, rebuild TensorFlow with the appropriate compiler flags.\n"
     ]
    },
    {
     "name": "stdout",
     "output_type": "stream",
     "text": [
      "Epoch 1/100\n",
      "48/48 [==============================] - 9s 136ms/step - loss: 0.6841 - accuracy: 0.5568 - precision: 0.2479 - recall: 0.1761 - val_loss: 0.6508 - val_accuracy: 0.6569 - val_precision: 0.0000e+00 - val_recall: 0.0000e+00\n",
      "Epoch 2/100\n",
      "48/48 [==============================] - 6s 121ms/step - loss: 0.6125 - accuracy: 0.6810 - precision: 0.7895 - recall: 0.0304 - val_loss: 0.5931 - val_accuracy: 0.6785 - val_precision: 0.7917 - val_recall: 0.0852\n",
      "Epoch 3/100\n",
      "48/48 [==============================] - 6s 118ms/step - loss: 0.5776 - accuracy: 0.6902 - precision: 0.6506 - recall: 0.1093 - val_loss: 0.5819 - val_accuracy: 0.6985 - val_precision: 0.6957 - val_recall: 0.2152\n",
      "Epoch 4/100\n",
      "48/48 [==============================] - 6s 121ms/step - loss: 0.5697 - accuracy: 0.7153 - precision: 0.6760 - recall: 0.2449 - val_loss: 0.5770 - val_accuracy: 0.7077 - val_precision: 0.6774 - val_recall: 0.2825\n",
      "Epoch 5/100\n",
      "48/48 [==============================] - 6s 122ms/step - loss: 0.5664 - accuracy: 0.7219 - precision: 0.6746 - recall: 0.2854 - val_loss: 0.5757 - val_accuracy: 0.7169 - val_precision: 0.6696 - val_recall: 0.3453\n",
      "Epoch 6/100\n",
      "48/48 [==============================] - 6s 122ms/step - loss: 0.5647 - accuracy: 0.7219 - precision: 0.6431 - recall: 0.3320 - val_loss: 0.5742 - val_accuracy: 0.7169 - val_precision: 0.6639 - val_recall: 0.3543\n",
      "Epoch 7/100\n",
      "48/48 [==============================] - 6s 120ms/step - loss: 0.5646 - accuracy: 0.7292 - precision: 0.6641 - recall: 0.3441 - val_loss: 0.5735 - val_accuracy: 0.7138 - val_precision: 0.6504 - val_recall: 0.3587\n",
      "Epoch 8/100\n",
      "48/48 [==============================] - 6s 118ms/step - loss: 0.5620 - accuracy: 0.7259 - precision: 0.6447 - recall: 0.3563 - val_loss: 0.5730 - val_accuracy: 0.7123 - val_precision: 0.6452 - val_recall: 0.3587\n",
      "Epoch 9/100\n",
      "48/48 [==============================] - 6s 117ms/step - loss: 0.5635 - accuracy: 0.7246 - precision: 0.6380 - recall: 0.3603 - val_loss: 0.5720 - val_accuracy: 0.7138 - val_precision: 0.6504 - val_recall: 0.3587\n",
      "Epoch 10/100\n",
      "48/48 [==============================] - 6s 126ms/step - loss: 0.5599 - accuracy: 0.7259 - precision: 0.6348 - recall: 0.3765 - val_loss: 0.5716 - val_accuracy: 0.7123 - val_precision: 0.6452 - val_recall: 0.3587\n",
      "Epoch 11/100\n",
      "48/48 [==============================] - 6s 116ms/step - loss: 0.5614 - accuracy: 0.7232 - precision: 0.6221 - recall: 0.3866 - val_loss: 0.5710 - val_accuracy: 0.7138 - val_precision: 0.6457 - val_recall: 0.3677\n",
      "Epoch 12/100\n",
      "48/48 [==============================] - 6s 123ms/step - loss: 0.5589 - accuracy: 0.7312 - precision: 0.6465 - recall: 0.3887 - val_loss: 0.5708 - val_accuracy: 0.7138 - val_precision: 0.6504 - val_recall: 0.3587\n",
      "Epoch 13/100\n",
      "48/48 [==============================] - 6s 115ms/step - loss: 0.5598 - accuracy: 0.7226 - precision: 0.6259 - recall: 0.3725 - val_loss: 0.5704 - val_accuracy: 0.7154 - val_precision: 0.6532 - val_recall: 0.3632\n",
      "Epoch 14/100\n",
      "48/48 [==============================] - 6s 116ms/step - loss: 0.5634 - accuracy: 0.7259 - precision: 0.6295 - recall: 0.3887 - val_loss: 0.5701 - val_accuracy: 0.7123 - val_precision: 0.6429 - val_recall: 0.3632\n",
      "Epoch 15/100\n",
      "48/48 [==============================] - 6s 118ms/step - loss: 0.5583 - accuracy: 0.7246 - precision: 0.6279 - recall: 0.3826 - val_loss: 0.5700 - val_accuracy: 0.7154 - val_precision: 0.6532 - val_recall: 0.3632\n",
      "Epoch 16/100\n",
      "48/48 [==============================] - 6s 121ms/step - loss: 0.5605 - accuracy: 0.7285 - precision: 0.6416 - recall: 0.3806 - val_loss: 0.5696 - val_accuracy: 0.7154 - val_precision: 0.6532 - val_recall: 0.3632\n",
      "Epoch 17/100\n",
      "48/48 [==============================] - 6s 126ms/step - loss: 0.5595 - accuracy: 0.7325 - precision: 0.6413 - recall: 0.4089 - val_loss: 0.5693 - val_accuracy: 0.7200 - val_precision: 0.6475 - val_recall: 0.4036\n",
      "Epoch 18/100\n",
      "48/48 [==============================] - 6s 132ms/step - loss: 0.5582 - accuracy: 0.7345 - precision: 0.6494 - recall: 0.4049 - val_loss: 0.5690 - val_accuracy: 0.7169 - val_precision: 0.6512 - val_recall: 0.3767\n",
      "Epoch 19/100\n",
      "48/48 [==============================] - 6s 118ms/step - loss: 0.5569 - accuracy: 0.7325 - precision: 0.6353 - recall: 0.4231 - val_loss: 0.5689 - val_accuracy: 0.7169 - val_precision: 0.6512 - val_recall: 0.3767\n",
      "Epoch 20/100\n",
      "48/48 [==============================] - 6s 119ms/step - loss: 0.5584 - accuracy: 0.7239 - precision: 0.6242 - recall: 0.3866 - val_loss: 0.5685 - val_accuracy: 0.7169 - val_precision: 0.6512 - val_recall: 0.3767\n",
      "Epoch 21/100\n",
      "48/48 [==============================] - 6s 115ms/step - loss: 0.5582 - accuracy: 0.7279 - precision: 0.6306 - recall: 0.4008 - val_loss: 0.5679 - val_accuracy: 0.7154 - val_precision: 0.6418 - val_recall: 0.3857\n",
      "Epoch 22/100\n",
      "48/48 [==============================] - 6s 123ms/step - loss: 0.5588 - accuracy: 0.7252 - precision: 0.6196 - recall: 0.4089 - val_loss: 0.5676 - val_accuracy: 0.7138 - val_precision: 0.6370 - val_recall: 0.3857\n",
      "Epoch 23/100\n",
      "48/48 [==============================] - 6s 123ms/step - loss: 0.5566 - accuracy: 0.7259 - precision: 0.6238 - recall: 0.4028 - val_loss: 0.5676 - val_accuracy: 0.7169 - val_precision: 0.6466 - val_recall: 0.3857\n",
      "Epoch 24/100\n",
      "48/48 [==============================] - 6s 120ms/step - loss: 0.5554 - accuracy: 0.7305 - precision: 0.6352 - recall: 0.4089 - val_loss: 0.5671 - val_accuracy: 0.7154 - val_precision: 0.6397 - val_recall: 0.3901\n",
      "Epoch 25/100\n",
      "48/48 [==============================] - 6s 116ms/step - loss: 0.5596 - accuracy: 0.7279 - precision: 0.6273 - recall: 0.4089 - val_loss: 0.5669 - val_accuracy: 0.7169 - val_precision: 0.6423 - val_recall: 0.3946\n",
      "Epoch 26/100\n",
      "48/48 [==============================] - 6s 133ms/step - loss: 0.5563 - accuracy: 0.7272 - precision: 0.6311 - recall: 0.3947 - val_loss: 0.5669 - val_accuracy: 0.7169 - val_precision: 0.6444 - val_recall: 0.3901\n",
      "Epoch 27/100\n",
      "48/48 [==============================] - 6s 126ms/step - loss: 0.5544 - accuracy: 0.7305 - precision: 0.6378 - recall: 0.4028 - val_loss: 0.5662 - val_accuracy: 0.7169 - val_precision: 0.6423 - val_recall: 0.3946\n",
      "Epoch 28/100\n",
      "48/48 [==============================] - 6s 121ms/step - loss: 0.5568 - accuracy: 0.7272 - precision: 0.6209 - recall: 0.4211 - val_loss: 0.5658 - val_accuracy: 0.7123 - val_precision: 0.6268 - val_recall: 0.3991\n",
      "Epoch 29/100\n",
      "48/48 [==============================] - 6s 119ms/step - loss: 0.5555 - accuracy: 0.7246 - precision: 0.6262 - recall: 0.3866 - val_loss: 0.5654 - val_accuracy: 0.7123 - val_precision: 0.6268 - val_recall: 0.3991\n",
      "Epoch 30/100\n",
      "48/48 [==============================] - 6s 123ms/step - loss: 0.5557 - accuracy: 0.7266 - precision: 0.6250 - recall: 0.4049 - val_loss: 0.5653 - val_accuracy: 0.7123 - val_precision: 0.6268 - val_recall: 0.3991\n",
      "Epoch 31/100\n",
      "48/48 [==============================] - 6s 129ms/step - loss: 0.5553 - accuracy: 0.7305 - precision: 0.6378 - recall: 0.4028 - val_loss: 0.5648 - val_accuracy: 0.7138 - val_precision: 0.6294 - val_recall: 0.4036\n",
      "Epoch 32/100\n",
      "48/48 [==============================] - 6s 133ms/step - loss: 0.5548 - accuracy: 0.7266 - precision: 0.6282 - recall: 0.3968 - val_loss: 0.5648 - val_accuracy: 0.7123 - val_precision: 0.6286 - val_recall: 0.3946\n",
      "Epoch 33/100\n",
      "48/48 [==============================] - 6s 129ms/step - loss: 0.5527 - accuracy: 0.7246 - precision: 0.6199 - recall: 0.4028 - val_loss: 0.5634 - val_accuracy: 0.7138 - val_precision: 0.6294 - val_recall: 0.4036\n",
      "Epoch 34/100\n",
      "48/48 [==============================] - 6s 125ms/step - loss: 0.5535 - accuracy: 0.7299 - precision: 0.6349 - recall: 0.4049 - val_loss: 0.5632 - val_accuracy: 0.7138 - val_precision: 0.6294 - val_recall: 0.4036\n",
      "Epoch 35/100\n",
      "48/48 [==============================] - 6s 126ms/step - loss: 0.5544 - accuracy: 0.7266 - precision: 0.6299 - recall: 0.3927 - val_loss: 0.5627 - val_accuracy: 0.7185 - val_precision: 0.6429 - val_recall: 0.4036\n",
      "Epoch 36/100\n",
      "48/48 [==============================] - 6s 124ms/step - loss: 0.5548 - accuracy: 0.7232 - precision: 0.6140 - recall: 0.4089 - val_loss: 0.5622 - val_accuracy: 0.7123 - val_precision: 0.6250 - val_recall: 0.4036\n",
      "Epoch 37/100\n"
     ]
    },
    {
     "name": "stdout",
     "output_type": "stream",
     "text": [
      "48/48 [==============================] - 6s 119ms/step - loss: 0.5530 - accuracy: 0.7266 - precision: 0.6299 - recall: 0.3927 - val_loss: 0.5629 - val_accuracy: 0.7200 - val_precision: 0.6541 - val_recall: 0.3901\n",
      "Epoch 38/100\n",
      "48/48 [==============================] - 6s 120ms/step - loss: 0.5501 - accuracy: 0.7239 - precision: 0.6226 - recall: 0.3907 - val_loss: 0.5611 - val_accuracy: 0.7169 - val_precision: 0.6345 - val_recall: 0.4126\n",
      "Epoch 39/100\n",
      "48/48 [==============================] - 6s 121ms/step - loss: 0.5507 - accuracy: 0.7285 - precision: 0.6293 - recall: 0.4089 - val_loss: 0.5605 - val_accuracy: 0.7169 - val_precision: 0.6345 - val_recall: 0.4126\n",
      "Epoch 40/100\n",
      "48/48 [==============================] - 6s 118ms/step - loss: 0.5522 - accuracy: 0.7272 - precision: 0.6202 - recall: 0.4231 - val_loss: 0.5606 - val_accuracy: 0.7215 - val_precision: 0.6500 - val_recall: 0.4081\n",
      "Epoch 41/100\n",
      "48/48 [==============================] - 6s 122ms/step - loss: 0.5527 - accuracy: 0.7266 - precision: 0.6220 - recall: 0.4130 - val_loss: 0.5600 - val_accuracy: 0.7231 - val_precision: 0.6547 - val_recall: 0.4081\n",
      "Epoch 42/100\n",
      "48/48 [==============================] - 6s 125ms/step - loss: 0.5519 - accuracy: 0.7266 - precision: 0.6290 - recall: 0.3947 - val_loss: 0.5599 - val_accuracy: 0.7200 - val_precision: 0.6496 - val_recall: 0.3991\n",
      "Epoch 43/100\n",
      "48/48 [==============================] - 6s 119ms/step - loss: 0.5516 - accuracy: 0.7266 - precision: 0.6282 - recall: 0.3968 - val_loss: 0.5599 - val_accuracy: 0.7215 - val_precision: 0.6567 - val_recall: 0.3946\n",
      "Epoch 44/100\n",
      "48/48 [==============================] - 6s 122ms/step - loss: 0.5506 - accuracy: 0.7292 - precision: 0.6338 - recall: 0.4028 - val_loss: 0.5580 - val_accuracy: 0.7246 - val_precision: 0.6507 - val_recall: 0.4260\n",
      "Epoch 45/100\n",
      "48/48 [==============================] - 6s 126ms/step - loss: 0.5511 - accuracy: 0.7272 - precision: 0.6270 - recall: 0.4049 - val_loss: 0.5588 - val_accuracy: 0.7185 - val_precision: 0.6471 - val_recall: 0.3946\n",
      "Epoch 46/100\n",
      "48/48 [==============================] - 6s 120ms/step - loss: 0.5503 - accuracy: 0.7299 - precision: 0.6332 - recall: 0.4089 - val_loss: 0.5582 - val_accuracy: 0.7185 - val_precision: 0.6471 - val_recall: 0.3946\n",
      "Epoch 47/100\n",
      "48/48 [==============================] - 6s 118ms/step - loss: 0.5494 - accuracy: 0.7292 - precision: 0.6296 - recall: 0.4130 - val_loss: 0.5579 - val_accuracy: 0.7185 - val_precision: 0.6471 - val_recall: 0.3946\n",
      "Epoch 48/100\n",
      "48/48 [==============================] - 6s 118ms/step - loss: 0.5478 - accuracy: 0.7358 - precision: 0.6526 - recall: 0.4069 - val_loss: 0.5572 - val_accuracy: 0.7200 - val_precision: 0.6496 - val_recall: 0.3991\n",
      "Epoch 49/100\n",
      "48/48 [==============================] - 6s 122ms/step - loss: 0.5485 - accuracy: 0.7312 - precision: 0.6347 - recall: 0.4150 - val_loss: 0.5564 - val_accuracy: 0.7154 - val_precision: 0.6357 - val_recall: 0.3991\n",
      "Epoch 50/100\n",
      "48/48 [==============================] - 6s 119ms/step - loss: 0.5486 - accuracy: 0.7232 - precision: 0.6154 - recall: 0.4049 - val_loss: 0.5571 - val_accuracy: 0.7200 - val_precision: 0.6496 - val_recall: 0.3991\n",
      "Epoch 51/100\n",
      "48/48 [==============================] - 6s 118ms/step - loss: 0.5466 - accuracy: 0.7325 - precision: 0.6361 - recall: 0.4211 - val_loss: 0.5561 - val_accuracy: 0.7169 - val_precision: 0.6423 - val_recall: 0.3946\n",
      "Epoch 52/100\n",
      "48/48 [==============================] - 6s 119ms/step - loss: 0.5460 - accuracy: 0.7252 - precision: 0.6226 - recall: 0.4008 - val_loss: 0.5553 - val_accuracy: 0.7215 - val_precision: 0.6522 - val_recall: 0.4036\n",
      "Epoch 53/100\n",
      "48/48 [==============================] - 6s 126ms/step - loss: 0.5443 - accuracy: 0.7312 - precision: 0.6283 - recall: 0.4312 - val_loss: 0.5546 - val_accuracy: 0.7215 - val_precision: 0.6346 - val_recall: 0.4439\n",
      "Epoch 54/100\n",
      "48/48 [==============================] - 6s 121ms/step - loss: 0.5447 - accuracy: 0.7285 - precision: 0.6246 - recall: 0.4211 - val_loss: 0.5550 - val_accuracy: 0.7231 - val_precision: 0.6547 - val_recall: 0.4081\n",
      "Epoch 55/100\n",
      "48/48 [==============================] - 6s 121ms/step - loss: 0.5450 - accuracy: 0.7266 - precision: 0.6258 - recall: 0.4028 - val_loss: 0.5550 - val_accuracy: 0.7200 - val_precision: 0.6496 - val_recall: 0.3991\n",
      "Epoch 56/100\n",
      "48/48 [==============================] - 6s 125ms/step - loss: 0.5431 - accuracy: 0.7239 - precision: 0.6195 - recall: 0.3988 - val_loss: 0.5543 - val_accuracy: 0.7200 - val_precision: 0.6454 - val_recall: 0.4081\n",
      "Epoch 57/100\n",
      "48/48 [==============================] - 6s 122ms/step - loss: 0.5457 - accuracy: 0.7292 - precision: 0.6280 - recall: 0.4170 - val_loss: 0.5548 - val_accuracy: 0.7169 - val_precision: 0.6403 - val_recall: 0.3991\n",
      "Epoch 58/100\n",
      "48/48 [==============================] - 6s 122ms/step - loss: 0.5397 - accuracy: 0.7345 - precision: 0.6411 - recall: 0.4231 - val_loss: 0.5556 - val_accuracy: 0.7138 - val_precision: 0.6370 - val_recall: 0.3857\n",
      "Epoch 59/100\n",
      "48/48 [==============================] - 6s 117ms/step - loss: 0.5444 - accuracy: 0.7299 - precision: 0.6341 - recall: 0.4069 - val_loss: 0.5545 - val_accuracy: 0.7138 - val_precision: 0.6350 - val_recall: 0.3901\n",
      "Epoch 60/100\n",
      "48/48 [==============================] - 6s 122ms/step - loss: 0.5436 - accuracy: 0.7299 - precision: 0.6254 - recall: 0.4291 - val_loss: 0.5600 - val_accuracy: 0.7077 - val_precision: 0.6341 - val_recall: 0.3498\n",
      "Epoch 61/100\n",
      "48/48 [==============================] - 5s 114ms/step - loss: 0.5403 - accuracy: 0.7417 - precision: 0.6656 - recall: 0.4190 - val_loss: 0.5571 - val_accuracy: 0.7123 - val_precision: 0.6343 - val_recall: 0.3812\n",
      "Epoch 62/100\n",
      "48/48 [==============================] - 5s 114ms/step - loss: 0.5437 - accuracy: 0.7325 - precision: 0.6440 - recall: 0.4028 - val_loss: 0.5537 - val_accuracy: 0.7123 - val_precision: 0.6216 - val_recall: 0.4126\n",
      "Epoch 63/100\n",
      "48/48 [==============================] - 6s 122ms/step - loss: 0.5408 - accuracy: 0.7325 - precision: 0.6361 - recall: 0.4211 - val_loss: 0.5563 - val_accuracy: 0.7123 - val_precision: 0.6343 - val_recall: 0.3812\n",
      "Epoch 64/100\n",
      "48/48 [==============================] - 6s 124ms/step - loss: 0.5448 - accuracy: 0.7391 - precision: 0.6562 - recall: 0.4211 - val_loss: 0.5553 - val_accuracy: 0.7123 - val_precision: 0.6304 - val_recall: 0.3901\n",
      "Epoch 65/100\n",
      "48/48 [==============================] - 5s 113ms/step - loss: 0.5413 - accuracy: 0.7378 - precision: 0.6414 - recall: 0.4453 - val_loss: 0.5537 - val_accuracy: 0.7123 - val_precision: 0.6268 - val_recall: 0.3991\n",
      "Epoch 66/100\n",
      "48/48 [==============================] - 5s 115ms/step - loss: 0.5428 - accuracy: 0.7312 - precision: 0.6426 - recall: 0.3968 - val_loss: 0.5540 - val_accuracy: 0.7092 - val_precision: 0.6250 - val_recall: 0.3812\n",
      "Epoch 67/100\n",
      "48/48 [==============================] - 6s 118ms/step - loss: 0.5392 - accuracy: 0.7358 - precision: 0.6399 - recall: 0.4352 - val_loss: 0.5540 - val_accuracy: 0.7154 - val_precision: 0.6397 - val_recall: 0.3901\n",
      "Epoch 68/100\n",
      "48/48 [==============================] - 6s 118ms/step - loss: 0.5386 - accuracy: 0.7371 - precision: 0.6420 - recall: 0.4393 - val_loss: 0.5532 - val_accuracy: 0.7154 - val_precision: 0.6301 - val_recall: 0.4126\n",
      "Epoch 69/100\n",
      "48/48 [==============================] - 6s 115ms/step - loss: 0.5374 - accuracy: 0.7391 - precision: 0.6427 - recall: 0.4514 - val_loss: 0.5550 - val_accuracy: 0.7138 - val_precision: 0.6350 - val_recall: 0.3901\n",
      "Epoch 70/100\n",
      "48/48 [==============================] - 6s 130ms/step - loss: 0.5411 - accuracy: 0.7305 - precision: 0.6311 - recall: 0.4190 - val_loss: 0.5523 - val_accuracy: 0.7138 - val_precision: 0.6294 - val_recall: 0.4036\n",
      "Epoch 71/100\n",
      "48/48 [==============================] - 6s 124ms/step - loss: 0.5378 - accuracy: 0.7378 - precision: 0.6570 - recall: 0.4109 - val_loss: 0.5515 - val_accuracy: 0.7123 - val_precision: 0.6233 - val_recall: 0.4081\n",
      "Epoch 72/100\n",
      "48/48 [==============================] - 6s 125ms/step - loss: 0.5427 - accuracy: 0.7318 - precision: 0.6350 - recall: 0.4190 - val_loss: 0.5521 - val_accuracy: 0.7077 - val_precision: 0.6170 - val_recall: 0.3901\n",
      "Epoch 73/100\n"
     ]
    },
    {
     "name": "stdout",
     "output_type": "stream",
     "text": [
      "48/48 [==============================] - 6s 122ms/step - loss: 0.5374 - accuracy: 0.7325 - precision: 0.6305 - recall: 0.4352 - val_loss: 0.5515 - val_accuracy: 0.7138 - val_precision: 0.6294 - val_recall: 0.4036\n",
      "Epoch 74/100\n",
      "48/48 [==============================] - 6s 117ms/step - loss: 0.5405 - accuracy: 0.7345 - precision: 0.6438 - recall: 0.4170 - val_loss: 0.5519 - val_accuracy: 0.7138 - val_precision: 0.6294 - val_recall: 0.4036\n",
      "Epoch 75/100\n",
      "48/48 [==============================] - 6s 117ms/step - loss: 0.5375 - accuracy: 0.7371 - precision: 0.6481 - recall: 0.4251 - val_loss: 0.5516 - val_accuracy: 0.7123 - val_precision: 0.6233 - val_recall: 0.4081\n",
      "Epoch 76/100\n",
      "48/48 [==============================] - 6s 117ms/step - loss: 0.5367 - accuracy: 0.7450 - precision: 0.6636 - recall: 0.4433 - val_loss: 0.5518 - val_accuracy: 0.7092 - val_precision: 0.6197 - val_recall: 0.3946\n",
      "Epoch 77/100\n",
      "48/48 [==============================] - 6s 120ms/step - loss: 0.5353 - accuracy: 0.7417 - precision: 0.6537 - recall: 0.4433 - val_loss: 0.5517 - val_accuracy: 0.7092 - val_precision: 0.6181 - val_recall: 0.3991\n",
      "Epoch 78/100\n",
      "48/48 [==============================] - 6s 119ms/step - loss: 0.5402 - accuracy: 0.7332 - precision: 0.6471 - recall: 0.4008 - val_loss: 0.5516 - val_accuracy: 0.7123 - val_precision: 0.6233 - val_recall: 0.4081\n",
      "Epoch 79/100\n",
      "48/48 [==============================] - 6s 118ms/step - loss: 0.5373 - accuracy: 0.7312 - precision: 0.6306 - recall: 0.4251 - val_loss: 0.5524 - val_accuracy: 0.7108 - val_precision: 0.6224 - val_recall: 0.3991\n",
      "Epoch 80/100\n",
      "48/48 [==============================] - 6s 115ms/step - loss: 0.5392 - accuracy: 0.7391 - precision: 0.6581 - recall: 0.4170 - val_loss: 0.5519 - val_accuracy: 0.7092 - val_precision: 0.6181 - val_recall: 0.3991\n",
      "Epoch 81/100\n",
      "48/48 [==============================] - 6s 115ms/step - loss: 0.5368 - accuracy: 0.7338 - precision: 0.6409 - recall: 0.4190 - val_loss: 0.5513 - val_accuracy: 0.7123 - val_precision: 0.6200 - val_recall: 0.4170\n",
      "Epoch 82/100\n",
      "48/48 [==============================] - 6s 125ms/step - loss: 0.5368 - accuracy: 0.7358 - precision: 0.6497 - recall: 0.4130 - val_loss: 0.5533 - val_accuracy: 0.7123 - val_precision: 0.6286 - val_recall: 0.3946\n",
      "Epoch 83/100\n",
      "48/48 [==============================] - 6s 123ms/step - loss: 0.5379 - accuracy: 0.7332 - precision: 0.6406 - recall: 0.4150 - val_loss: 0.5517 - val_accuracy: 0.7092 - val_precision: 0.6164 - val_recall: 0.4036\n",
      "Epoch 84/100\n",
      "48/48 [==============================] - 6s 124ms/step - loss: 0.5343 - accuracy: 0.7398 - precision: 0.6462 - recall: 0.4474 - val_loss: 0.5518 - val_accuracy: 0.7092 - val_precision: 0.6118 - val_recall: 0.4170\n",
      "Epoch 85/100\n",
      "48/48 [==============================] - 6s 123ms/step - loss: 0.5335 - accuracy: 0.7411 - precision: 0.6711 - recall: 0.4049 - val_loss: 0.5523 - val_accuracy: 0.7123 - val_precision: 0.6233 - val_recall: 0.4081\n",
      "Epoch 86/100\n",
      "48/48 [==============================] - 6s 123ms/step - loss: 0.5292 - accuracy: 0.7424 - precision: 0.6595 - recall: 0.4352 - val_loss: 0.5514 - val_accuracy: 0.7077 - val_precision: 0.6065 - val_recall: 0.4215\n",
      "Epoch 87/100\n",
      "48/48 [==============================] - 6s 124ms/step - loss: 0.5305 - accuracy: 0.7483 - precision: 0.6707 - recall: 0.4494 - val_loss: 0.5515 - val_accuracy: 0.7108 - val_precision: 0.6190 - val_recall: 0.4081\n",
      "Epoch 88/100\n",
      "48/48 [==============================] - 6s 119ms/step - loss: 0.5405 - accuracy: 0.7417 - precision: 0.6604 - recall: 0.4291 - val_loss: 0.5509 - val_accuracy: 0.7092 - val_precision: 0.6181 - val_recall: 0.3991\n",
      "Epoch 89/100\n",
      "48/48 [==============================] - 6s 122ms/step - loss: 0.5347 - accuracy: 0.7345 - precision: 0.6533 - recall: 0.3968 - val_loss: 0.5503 - val_accuracy: 0.7062 - val_precision: 0.6067 - val_recall: 0.4081\n",
      "Epoch 90/100\n",
      "48/48 [==============================] - 6s 124ms/step - loss: 0.5349 - accuracy: 0.7404 - precision: 0.6603 - recall: 0.4211 - val_loss: 0.5498 - val_accuracy: 0.7077 - val_precision: 0.6122 - val_recall: 0.4036\n",
      "Epoch 91/100\n",
      "48/48 [==============================] - 6s 118ms/step - loss: 0.5327 - accuracy: 0.7411 - precision: 0.6678 - recall: 0.4109 - val_loss: 0.5499 - val_accuracy: 0.7092 - val_precision: 0.6214 - val_recall: 0.3901\n",
      "Epoch 92/100\n",
      "48/48 [==============================] - 6s 122ms/step - loss: 0.5356 - accuracy: 0.7358 - precision: 0.6497 - recall: 0.4130 - val_loss: 0.5494 - val_accuracy: 0.7077 - val_precision: 0.6187 - val_recall: 0.3857\n",
      "Epoch 93/100\n",
      "48/48 [==============================] - 6s 120ms/step - loss: 0.5351 - accuracy: 0.7246 - precision: 0.6254 - recall: 0.3887 - val_loss: 0.5493 - val_accuracy: 0.7062 - val_precision: 0.6111 - val_recall: 0.3946\n",
      "Epoch 94/100\n",
      "48/48 [==============================] - 6s 117ms/step - loss: 0.5334 - accuracy: 0.7378 - precision: 0.6550 - recall: 0.4150 - val_loss: 0.5506 - val_accuracy: 0.7092 - val_precision: 0.6214 - val_recall: 0.3901\n",
      "Epoch 95/100\n",
      "48/48 [==============================] - 6s 119ms/step - loss: 0.5349 - accuracy: 0.7371 - precision: 0.6500 - recall: 0.4211 - val_loss: 0.5492 - val_accuracy: 0.7077 - val_precision: 0.6122 - val_recall: 0.4036\n",
      "Epoch 96/100\n",
      "48/48 [==============================] - 6s 121ms/step - loss: 0.5301 - accuracy: 0.7444 - precision: 0.6688 - recall: 0.4291 - val_loss: 0.5502 - val_accuracy: 0.7077 - val_precision: 0.6187 - val_recall: 0.3857\n",
      "Epoch 97/100\n",
      "48/48 [==============================] - 6s 120ms/step - loss: 0.5333 - accuracy: 0.7437 - precision: 0.6743 - recall: 0.4150 - val_loss: 0.5517 - val_accuracy: 0.7062 - val_precision: 0.6159 - val_recall: 0.3812\n",
      "Epoch 98/100\n",
      "48/48 [==============================] - 6s 123ms/step - loss: 0.5334 - accuracy: 0.7411 - precision: 0.6555 - recall: 0.4352 - val_loss: 0.5508 - val_accuracy: 0.7077 - val_precision: 0.6187 - val_recall: 0.3857\n",
      "Epoch 99/100\n",
      "48/48 [==============================] - 6s 117ms/step - loss: 0.5316 - accuracy: 0.7338 - precision: 0.6608 - recall: 0.3785 - val_loss: 0.5488 - val_accuracy: 0.7138 - val_precision: 0.6135 - val_recall: 0.4484\n",
      "Epoch 100/100\n",
      "48/48 [==============================] - 6s 130ms/step - loss: 0.5312 - accuracy: 0.7464 - precision: 0.6562 - recall: 0.4676 - val_loss: 0.5511 - val_accuracy: 0.7092 - val_precision: 0.6181 - val_recall: 0.3991\n"
     ]
    }
   ],
   "source": [
    "from tensorflow.keras import layers, regularizers\n",
    "from tensorflow.keras.models import Sequential\n",
    "from tensorflow.keras.callbacks import EarlyStopping\n",
    "from tensorflow.keras.metrics import Precision, Recall\n",
    "\n",
    "es = EarlyStopping(monitor='val_loss', patience=15, restore_best_weights=True)\n",
    "reg_l2 = regularizers.L2(0.02)\n",
    "\n",
    "(a,b,c) = X_all_train_preprocessed.shape\n",
    "\n",
    "# –– Model\n",
    "model = Sequential()\n",
    "model.add(layers.Masking(mask_value=-1000, input_shape=(b, c)))\n",
    "model.add(layers.LSTM(units=10, activation='tanh', recurrent_dropout=0.3)) #LSTM (recurrent or dropout) or GRU, tanh as activation\n",
    "#model.add(layers.SimpleRNN(2, activation='relu'))\n",
    "model.add(layers.Dense(1, activation='sigmoid'))\n",
    "\n",
    "# –– Compilation\n",
    "model.compile(loss='binary_crossentropy', \n",
    "              optimizer='adam',\n",
    "              metrics=['accuracy','Precision','Recall'])\n",
    "\n",
    "# –– Fit\n",
    "history = model.fit(X_all_train_preprocessed, y_all_train, \n",
    "          epochs=100, \n",
    "          validation_split = 0.3,\n",
    "          callbacks=[es]); #check if we can make the early stopping on the f1-metric of the validation -> monitor?\n"
   ]
  },
  {
   "cell_type": "markdown",
   "id": "ec66b14e",
   "metadata": {
    "heading_collapsed": true
   },
   "source": [
    "## Results & Evaluation"
   ]
  },
  {
   "cell_type": "code",
   "execution_count": 28,
   "id": "b9b3beb5-9c86-42dd-ac10-ad1cb423d3b4",
   "metadata": {
    "hidden": true,
    "tags": []
   },
   "outputs": [
    {
     "name": "stdout",
     "output_type": "stream",
     "text": [
      "29/29 [==============================] - 1s 18ms/step - loss: 0.5465 - accuracy: 0.7403 - precision: 0.6410 - recall: 0.4223\n"
     ]
    },
    {
     "data": {
      "text/plain": [
       "[0.5464804172515869,\n",
       " 0.7403017282485962,\n",
       " 0.6410256624221802,\n",
       " 0.42229729890823364]"
      ]
     },
     "execution_count": 28,
     "metadata": {},
     "output_type": "execute_result"
    }
   ],
   "source": [
    "#Evaluate model\n",
    "model.evaluate(X_all_test_preprocessed,y_all_test)"
   ]
  },
  {
   "cell_type": "code",
   "execution_count": 29,
   "id": "81e5b540-368d-4dcb-84c9-382a90e4fa23",
   "metadata": {
    "hidden": true
   },
   "outputs": [
    {
     "data": {
      "image/png": "[encoded data removed]",
      "text/plain": [
       "<Figure size 432x288 with 1 Axes>"
      ]
     },
     "metadata": {
      "needs_background": "light"
     },
     "output_type": "display_data"
    }
   ],
   "source": [
    "#Plot model loss\n",
    "\n",
    "def plot_history(history):\n",
    "    plt.plot(np.sqrt(history.history['loss']))\n",
    "    plt.plot(np.sqrt(history.history['val_loss']))\n",
    "    plt.title('Model Loss')\n",
    "    plt.ylabel('RMSLE')\n",
    "    plt.xlabel('Epoch')\n",
    "    plt.legend(['Train', 'Val'], loc='best')\n",
    "    plt.show()\n",
    "    \n",
    "plot_history(history)"
   ]
  },
  {
   "cell_type": "code",
   "execution_count": 31,
   "id": "b63ec272-1032-4d27-973f-3e16daa9d16c",
   "metadata": {
    "hidden": true
   },
   "outputs": [
    {
     "data": {
      "image/png": "[encoded data removed]",
      "text/plain": [
       "<Figure size 432x288 with 1 Axes>"
      ]
     },
     "metadata": {
      "needs_background": "light"
     },
     "output_type": "display_data"
    }
   ],
   "source": [
    "#Plot Accuracy\n",
    "\n",
    "def plot_history3(history):\n",
    "    plt.plot(history.history['accuracy'])\n",
    "    plt.plot(history.history['val_accuracy'])\n",
    "    plt.title('Model accuracy')\n",
    "    plt.ylabel('accuracy')\n",
    "    plt.xlabel('Epoch')\n",
    "    plt.legend(['Train', 'Val'], loc='best')\n",
    "    plt.show()\n",
    "    \n",
    "plot_history3(history)"
   ]
  },
  {
   "cell_type": "code",
   "execution_count": 32,
   "id": "031fb46b-4143-4965-b508-9bb460e5aeee",
   "metadata": {
    "hidden": true
   },
   "outputs": [
    {
     "data": {
      "image/png": "[encoded data removed]",
      "text/plain": [
       "<Figure size 432x288 with 1 Axes>"
      ]
     },
     "metadata": {
      "needs_background": "light"
     },
     "output_type": "display_data"
    }
   ],
   "source": [
    "#Plot Recall\n",
    "\n",
    "def plot_history4(history):\n",
    "    plt.plot(history.history['recall'])\n",
    "    plt.plot(history.history['val_recall'])\n",
    "    plt.title('Model recall')\n",
    "    plt.ylabel('recall')\n",
    "    plt.xlabel('Epoch')\n",
    "    plt.legend(['Train', 'Val'], loc='best')\n",
    "    plt.show()\n",
    "    \n",
    "plot_history4(history)"
   ]
  },
  {
   "cell_type": "markdown",
   "id": "a051516a",
   "metadata": {
    "heading_collapsed": true
   },
   "source": [
    "## Save model to put in production"
   ]
  },
  {
   "cell_type": "code",
   "execution_count": 34,
   "id": "9065a245-2431-403a-a5dd-3bcce13250ec",
   "metadata": {
    "hidden": true
   },
   "outputs": [],
   "source": [
    "#the model is saved, such that it can be used in production\n",
    "model.save('my_model2.h5')"
   ]
  },
  {
   "cell_type": "markdown",
   "id": "3c9fba0b",
   "metadata": {
    "heading_collapsed": true
   },
   "source": [
    "# Second Model for player specific types\n",
    "\n",
    "As there are 5 player types in each team which each have their own goals and powers during a match, we created a model for all player types combined, as well for the 5 separate player types. "
   ]
  },
  {
   "cell_type": "markdown",
   "id": "9c641699",
   "metadata": {
    "heading_collapsed": true,
    "hidden": true
   },
   "source": [
    "### Split df per position (top, jng, mid, bot, sup) and keep only relevant features"
   ]
  },
  {
   "cell_type": "code",
   "execution_count": null,
   "id": "349a6632",
   "metadata": {
    "hidden": true
   },
   "outputs": [],
   "source": [
    "columns = ['year','playername','position','earned gpm', 'dpm', 'cspm', 'kills_assists_deaths_metric', 'result','target']\n",
    "\n",
    "#create df per position\n",
    "df_top = df.loc[df['position']=='top',columns]\n",
    "df_jng = df.loc[df['position']=='jng',columns]\n",
    "df_mid = df.loc[df['position']=='mid',columns]\n",
    "df_bot = df.loc[df['position']=='bot',columns]\n",
    "df_sup = df.loc[df['position']=='sup',columns]\n",
    "\n",
    "#show final df for top-position players\n",
    "df_top.head(5)"
   ]
  },
  {
   "cell_type": "markdown",
   "id": "fe8212c8",
   "metadata": {
    "heading_collapsed": true,
    "hidden": true
   },
   "source": [
    "### 1. Process data for \"top\" players"
   ]
  },
  {
   "cell_type": "code",
   "execution_count": null,
   "id": "0097df8b",
   "metadata": {
    "hidden": true
   },
   "outputs": [],
   "source": [
    "#create X and y data\n",
    "X_top_train, X_top_test, y_top_train, y_top_test = create_train_test_tensors(df_top)\n",
    "\n",
    "#preprocess X_train and X_test\n",
    "X_top_train_preprocessed, X_top_test_preprocessed = preprocess_data(X_top_train, X_top_test)\n",
    "print(f\"Shape of preprocessed X_train and X_test data for 'top' players:\")\n",
    "print(X_top_train_preprocessed.shape, X_top_test_preprocessed.shape)\n",
    "\n",
    "#oversample train data\n",
    "#X_top_train_over, y_top_train_over = oversample_train_data(X_top_train_preprocessed, y_top_train)\n",
    "#print(f\"\\n Shape of oversampled X_train and y_train data for 'top' players:\")\n",
    "#print(X_top_train_over.shape, y_top_train_over.shape)"
   ]
  },
  {
   "cell_type": "markdown",
   "id": "c0186292",
   "metadata": {
    "heading_collapsed": true,
    "hidden": true
   },
   "source": [
    "### 2. Process data for \"jng\" players"
   ]
  },
  {
   "cell_type": "code",
   "execution_count": null,
   "id": "33b05f97",
   "metadata": {
    "hidden": true
   },
   "outputs": [],
   "source": [
    "#create X and y data\n",
    "X_jng_train, X_jng_test, y_jng_train, y_jng_test = create_train_test_tensors(df_jng)\n",
    "\n",
    "#preprocess X_train and X_test\n",
    "X_jng_train_preprocessed, X_jng_test_preprocessed = preprocess_data(X_jng_train, X_jng_test)\n",
    "print(f\"Shape of preprocessed X_train and X_test data for 'jng' players:\")\n",
    "print(X_jng_train_preprocessed.shape, X_jng_test_preprocessed.shape)\n",
    "\n",
    "#oversample train data\n",
    "#X_jng_train_over, y_jng_train_over = oversample_train_data(X_jng_train_preprocessed, y_jng_train)\n",
    "#print(f\"\\n Shape of oversampled X_train and y_train data for 'top' players:\")\n",
    "#print(X_jng_train_over.shape, y_jng_train_over.shape)"
   ]
  },
  {
   "cell_type": "markdown",
   "id": "0920b50d",
   "metadata": {
    "heading_collapsed": true,
    "hidden": true
   },
   "source": [
    "### 3. Process data for \"mid\" players"
   ]
  },
  {
   "cell_type": "code",
   "execution_count": null,
   "id": "20942fa4",
   "metadata": {
    "hidden": true
   },
   "outputs": [],
   "source": [
    "#create X and y data\n",
    "X_mid_train, X_mid_test, y_mid_train, y_mid_test = create_train_test_tensors(df_mid)\n",
    "\n",
    "#preprocess X_train and X_test\n",
    "X_mid_train_preprocessed, X_mid_test_preprocessed = preprocess_data(X_mid_train, X_mid_test)\n",
    "print(f\"Shape of preprocessed X_train and X_test data for 'mid' players:\")\n",
    "print(X_mid_train_preprocessed.shape, X_mid_test_preprocessed.shape)\n",
    "\n",
    "#oversample train data\n",
    "#X_mid_train_over, y_mid_train_over = oversample_train_data(X_mid_train_preprocessed, y_mid_train)\n",
    "#print(f\"\\n Shape of oversampled X_train and y_train data for 'mid' players:\")\n",
    "#print(X_mid_train_over.shape, y_mid_train_over.shape)"
   ]
  },
  {
   "cell_type": "markdown",
   "id": "bbb79464",
   "metadata": {
    "heading_collapsed": true,
    "hidden": true
   },
   "source": [
    "### 4. Process data for \"bot\" players"
   ]
  },
  {
   "cell_type": "code",
   "execution_count": null,
   "id": "09bc5924",
   "metadata": {
    "hidden": true
   },
   "outputs": [],
   "source": [
    "\n",
    "#create X and y data\n",
    "X_bot_train, X_bot_test, y_bot_train, y_bot_test = create_train_test_tensors(df_bot)\n",
    "\n",
    "#preprocess X_train and X_test\n",
    "X_bot_train_preprocessed, X_bot_test_preprocessed = preprocess_data(X_bot_train, X_bot_test)\n",
    "print(f\"Shape of preprocessed X_train and X_test data for 'bot' players:\")\n",
    "print(X_bot_train_preprocessed.shape, X_bot_test_preprocessed.shape)\n",
    "\n",
    "#oversample train data\n",
    "#X_bot_train_over, y_bot_train_over = oversample_train_data(X_bot_train_preprocessed, y_bot_train)\n",
    "#print(f\"\\n Shape of oversampled X_train and y_train data for 'bot' players:\")\n",
    "#print(X_bot_train_over.shape, y_bot_train_over.shape)"
   ]
  },
  {
   "cell_type": "markdown",
   "id": "d3f7a887",
   "metadata": {
    "heading_collapsed": true,
    "hidden": true
   },
   "source": [
    "### 5. Process data for \"sup\" players"
   ]
  },
  {
   "cell_type": "code",
   "execution_count": null,
   "id": "4223a423",
   "metadata": {
    "hidden": true
   },
   "outputs": [],
   "source": [
    "#create X and y data\n",
    "X_sup_train, X_sup_test, y_sup_train, y_sup_test = create_train_test_tensors(df_sup)\n",
    "\n",
    "#preprocess X_train and X_test\n",
    "X_sup_train_preprocessed, X_sup_test_preprocessed = preprocess_data(X_sup_train, X_sup_test)\n",
    "print(f\"Shape of preprocessed X_train and X_test data for 'sup' players:\")\n",
    "print(X_sup_train_preprocessed.shape, X_sup_test_preprocessed.shape)\n",
    "\n",
    "#oversample train data\n",
    "#X_sup_train_over, y_sup_train_over = oversample_train_data(X_sup_train_preprocessed, y_sup_train)\n",
    "#print(f\"\\n Shape of oversampled X_test and y_test data for 'sup' players:\")\n",
    "#print(X_sup_train_over.shape, y_sup_train_over.shape)"
   ]
  }
 ],
 "metadata": {
  "kernelspec": {
   "display_name": "Python 3 (ipykernel)",
   "language": "python",
   "name": "python3"
  },
  "language_info": {
   "codemirror_mode": {
    "name": "ipython",
    "version": 3
   },
   "file_extension": ".py",
   "mimetype": "text/x-python",
   "name": "python",
   "nbconvert_exporter": "python",
   "pygments_lexer": "ipython3",
   "version": "3.8.12"
  },
  "toc": {
   "base_numbering": 1,
   "nav_menu": {},
   "number_sections": true,
   "sideBar": true,
   "skip_h1_title": false,
   "title_cell": "Table of Contents",
   "title_sidebar": "Contents",
   "toc_cell": false,
   "toc_position": {},
   "toc_section_display": true,
   "toc_window_display": false
  },
  "vscode": {
   "interpreter": {
    "hash": "7bd84cb4b67aeb00d1a4a9a74633cec381deeba046b84a2bf568ed53369761ef"
   }
  }
 },
 "nbformat": 4,
 "nbformat_minor": 5
}
